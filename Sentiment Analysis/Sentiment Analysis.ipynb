{
 "cells": [
  {
   "cell_type": "markdown",
   "metadata": {},
   "source": [
    "<a ><img src=\"Pictures/trashpanda.png\"  width=\"70\" align=\"left\"> </a>\n",
    "<div style=\"text-align: right\"> <h3><span style=\"color:gray\"> DRAFT </span> </h3> </div>\n",
    "\n",
    "<br>\n",
    "<br>\n",
    "<br>\n",
    "\n",
    "<a ><img src=\"Pictures/Icon.png\" Width=\"250\" align=\"center\"> </a>\n",
    "\n",
    "<br>\n",
    "<br>\n",
    "\n",
    "\n",
    "\n",
    "<h1><center>Sentiment Analysis</center></h1>\n",
    "<h2><center> <span style=\"font-weight:normal\"><font color='#022F73'> Analysis of Headlines with VADER and FinBERT </font>  </span></center></h2>\n",
    "\n",
    "\n",
    "<h3><center><font color='gray'>JONAS GOTTAL</font></center></h3>"
   ]
  },
  {
   "cell_type": "markdown",
   "metadata": {},
   "source": [
    "<h4>About this Notebook</h4>\n",
    "We will conduct a sentiment Analysis with VADER  <br> \n",
    "(Valence Aware Dictionary for Sentiment Reasoning) and FinBERT, a pre-trained Model,<br>  \n",
    "on headlines of ten different news outlets and generate for each a dedicated sentiment KPI<br>\n",
    "per trading day. In the end we will have a sound time series and - hopefully - some <br>\n",
    "predictive results.\n",
    "<br>\n",
    "<br>\n"
   ]
  },
  {
   "cell_type": "markdown",
   "metadata": {
    "id": "kI5wU5naxzsa",
    "slideshow": {
     "slide_type": "slide"
    }
   },
   "source": [
    "<h1>Table of contents</h1>\n",
    "\n",
    "<div class=\"alert alert-block alert-info\" style=\"text-decoration:none; margin-top: 30px; background-color:#F2F2F2; border-color:#022F73\">\n",
    "    <span style=\"color:#022F73\">\n",
    "    <ol>\n",
    "      <li><a href=\"#1\"> <span style=\"color:#022F73;text-decoration:underline;text-decoration-color:#F2F2F2\" \n",
    "       >Motivation  </span> </a></li>\n",
    "      <li><a href=\"#2\"> <span style=\"color:#022F73;text-decoration:underline;text-decoration-color:#F2F2F2\" \n",
    "       >Sentiment Scores with pysentiment and VADER</span> </a></li>\n",
    "      <li><a href=\"#3\"> <span style=\"color:#022F73;text-decoration:underline;text-decoration-color:#F2F2F2\" \n",
    "       >Upload on our MySQL Database</span> </a></li>\n",
    "      <li><a href=\"#4\"> <span style=\"color:#022F73;text-decoration:underline;text-decoration-color:#F2F2F2\" \n",
    "       >Adjustments on the pre-trained BERT model </span> </a></li>\n",
    "      <li><a href=\"#5\"> <span style=\"color:#022F73;text-decoration:underline;text-decoration-color:#F2F2F2\" \n",
    "       >Final FinBERT Model</span> </a></li>\n",
    "       <li><a href=\"#6\"> <span style=\"color:#022F73;text-decoration:underline;text-decoration-color:#F2F2F2\" \n",
    "       >Upload on our MySQL Database</span> </a></li>\n",
    "    </ol>\n",
    "    </span>\n",
    "</div>"
   ]
  },
  {
   "cell_type": "code",
   "execution_count": 164,
   "metadata": {
    "code_folding": [
     0
    ]
   },
   "outputs": [],
   "source": [
    "#!pip install html5lib\n",
    "#!pip install ipython-sql\n",
    "#!pip install nltk\n",
    "\n",
    "import requests\n",
    "from   bs4 import BeautifulSoup\n",
    "import html5lib\n",
    "import time\n",
    "import numpy as np\n",
    "import pandas as pd\n",
    "import matplotlib as mp\n",
    "import matplotlib.pyplot as plt\n",
    "import dtale\n",
    "import sqlalchemy\n",
    "import pymysql\n",
    "pymysql.install_as_MySQLdb()\n",
    "import pysentiment\n",
    "import nltk\n",
    "from nltk.sentiment.vader import SentimentIntensityAnalyzer as SIA\n",
    "import seaborn as sns"
   ]
  },
  {
   "cell_type": "markdown",
   "metadata": {
    "heading_collapsed": true
   },
   "source": [
    "# 1. Motivation <a id=\"1\"></a>"
   ]
  },
  {
   "cell_type": "markdown",
   "metadata": {
    "hidden": true
   },
   "source": [
    "\n",
    "> <i> \"There are three ways to make a living in this business: be first, be smarter, or cheat. Well, I don't cheat. And although I like to think we have some pretty smart people here in this room, it sure is a hell of lot easier to just be first.\" </i> **- Margin Call** \n",
    "\n",
    "But to be the first to use market data, you would need to be in an optimal physical location (depending on the stock exchanges) and you have to have the fastest connection. Neither of those is true for me and many others. So to be successful - in this analogy of margin call - you would have to design/manipulate a unique set of data - and therefore be first again."
   ]
  },
  {
   "cell_type": "markdown",
   "metadata": {
    "hidden": true
   },
   "source": [
    "## Revision of our news scraping approach"
   ]
  },
  {
   "cell_type": "markdown",
   "metadata": {
    "hidden": true
   },
   "source": [
    "#### Documentation: https://requests.readthedocs.io/en/master/user/advanced\n",
    "```j\n",
    "content = requests.get(url = url, headers = {'Accept': 'text/html'}, timeout=(3, 27))\n",
    "`````\n"
   ]
  },
  {
   "cell_type": "markdown",
   "metadata": {
    "hidden": true
   },
   "source": [
    "### A. Bild"
   ]
  },
  {
   "cell_type": "code",
   "execution_count": 126,
   "metadata": {
    "hidden": true
   },
   "outputs": [
    {
     "data": {
      "text/plain": [
       "200"
      ]
     },
     "execution_count": 126,
     "metadata": {},
     "output_type": "execute_result"
    }
   ],
   "source": [
    "url = \"https://www.bild.de/politik/international/bild-international/home-44225950.bild.html\"\n",
    "\n",
    "content = requests.get(url = url, headers = {'Accept': 'text/html'}, timeout=(3, 27))\n",
    "\n",
    "content.status_code"
   ]
  },
  {
   "cell_type": "code",
   "execution_count": 127,
   "metadata": {
    "hidden": true,
    "scrolled": true
   },
   "outputs": [
    {
     "name": "stdout",
     "output_type": "stream",
     "text": [
      "12                                                 bild\n",
      "0                  Bill Gates on conspiracy theories\n",
      "1               “Run! The planes are bombing again!”\n",
      "2                             Church bombed to ruins\n",
      "3  „The city looks like German cities during the ...\n",
      "4          Navalny: Sanction Putin's closest circle \n"
     ]
    }
   ],
   "source": [
    "bild = BeautifulSoup(content.content, 'html.parser')\n",
    "\n",
    "headlines = bild.find_all(attrs={'class':'headline'})\n",
    "\n",
    "df_bild = pd.DataFrame([i.text for i in headlines], columns=[\"bild\"])\n",
    "print (df_bild.size, df_bild.head())"
   ]
  },
  {
   "cell_type": "markdown",
   "metadata": {
    "hidden": true
   },
   "source": [
    "### B. Spiegel"
   ]
  },
  {
   "cell_type": "code",
   "execution_count": 128,
   "metadata": {
    "hidden": true
   },
   "outputs": [
    {
     "data": {
      "text/plain": [
       "200"
      ]
     },
     "execution_count": 128,
     "metadata": {},
     "output_type": "execute_result"
    }
   ],
   "source": [
    "url = \"https://www.spiegel.de/international/\"\n",
    "\n",
    "content = requests.get(url = url, headers = {'Accept': 'text/html'}, timeout=(3, 27))\n",
    "\n",
    "content.status_code"
   ]
  },
  {
   "cell_type": "code",
   "execution_count": 129,
   "metadata": {
    "hidden": true,
    "scrolled": false
   },
   "outputs": [
    {
     "name": "stdout",
     "output_type": "stream",
     "text": [
      "4                                              spiegel\n",
      "0  A Model African Country Slides Toward Dictator...\n",
      "1                      “How Can You Not Be Worried?”\n",
      "2  EU Border Agency Frontex Complicit in Greek Re...\n",
      "3        Lukashenko’s Opponents Regroup in Lithuania\n"
     ]
    }
   ],
   "source": [
    "spiegel = BeautifulSoup(content.content, 'html.parser')\n",
    "\n",
    "headlines = spiegel.find_all(attrs={'class':'align-middle hover:opacity-moderate focus:opacity-moderate'})\n",
    "\n",
    "df_spiegel = pd.DataFrame([i.text for i in headlines], columns=[\"spiegel\"])\n",
    "print (df_spiegel.size, df_spiegel.head())"
   ]
  },
  {
   "cell_type": "markdown",
   "metadata": {
    "hidden": true
   },
   "source": [
    "##### 5 is too short of a data frame to execute a sentiment analysis on short strings of text. We need more input to gather a reliable daily proxy of sentiment per news outlet."
   ]
  },
  {
   "cell_type": "markdown",
   "metadata": {
    "hidden": true
   },
   "source": [
    "### C. Zeit"
   ]
  },
  {
   "cell_type": "code",
   "execution_count": 130,
   "metadata": {
    "hidden": true
   },
   "outputs": [
    {
     "data": {
      "text/plain": [
       "200"
      ]
     },
     "execution_count": 130,
     "metadata": {},
     "output_type": "execute_result"
    }
   ],
   "source": [
    "url = \"https://www.zeit.de/english/index\"\n",
    "\n",
    "content = requests.get(url = url, headers = {'Accept': 'text/html'}, timeout=(3, 27))\n",
    "\n",
    "content.status_code"
   ]
  },
  {
   "cell_type": "code",
   "execution_count": 131,
   "metadata": {
    "hidden": true,
    "scrolled": false
   },
   "outputs": [
    {
     "name": "stdout",
     "output_type": "stream",
     "text": [
      "20                                                 zeit\n",
      "0                                   \"It's Up To Us\" \n",
      "1                   The Nightmare Has Become Reality\n",
      "2  \"Food Becomes Increasingly Important the More ...\n",
      "3                  Exorcism in Lieu of Enlightenment\n",
      "4                     \"None of Us Want to Be Killed\"\n"
     ]
    }
   ],
   "source": [
    "zeit = BeautifulSoup(content.content, 'html.parser')\n",
    "\n",
    "headlines = zeit.find_all(attrs={'class':'zon-teaser-standard__title'})\n",
    "\n",
    "df_zeit = pd.DataFrame([i.text for i in headlines], columns=[\"zeit\"])\n",
    "print (df_zeit.size, df_zeit.head())"
   ]
  },
  {
   "cell_type": "markdown",
   "metadata": {
    "hidden": true
   },
   "source": [
    "### D. FAZ"
   ]
  },
  {
   "cell_type": "code",
   "execution_count": 132,
   "metadata": {
    "hidden": true
   },
   "outputs": [
    {
     "data": {
      "text/plain": [
       "200"
      ]
     },
     "execution_count": 132,
     "metadata": {},
     "output_type": "execute_result"
    }
   ],
   "source": [
    "url = \"https://www.faz.net/english/\"\n",
    "\n",
    "content = requests.get(url = url, headers = {'Accept': 'text/html'}, timeout=(3, 27))\n",
    "\n",
    "content.status_code"
   ]
  },
  {
   "cell_type": "code",
   "execution_count": 133,
   "metadata": {
    "hidden": true,
    "scrolled": true
   },
   "outputs": [
    {
     "name": "stdout",
     "output_type": "stream",
     "text": [
      "20                                                  faz\n",
      "0  „We have to fight misinformation because peopl...\n",
      "1                  Do not ruin the Internet!        \n",
      "2                              The Black Axe        \n",
      "3  Time for a German-British Friendship Treaty   ...\n",
      "4                 The Girl With The Red Coat        \n"
     ]
    }
   ],
   "source": [
    "faz = BeautifulSoup(content.content, 'html.parser')\n",
    "\n",
    "headlines = faz.find_all(attrs={'class':'tsr-Base_HeadlineText'})\n",
    "\n",
    "df_faz = pd.DataFrame([i.text for i in headlines], columns=[\"faz\"]).replace(\"\\n\", \"\", regex=True).replace(\"\\t\", \"\", regex=True)\n",
    "print (df_faz.size, df_faz.head())"
   ]
  },
  {
   "cell_type": "markdown",
   "metadata": {
    "hidden": true
   },
   "source": [
    "### E. BBC"
   ]
  },
  {
   "cell_type": "code",
   "execution_count": 134,
   "metadata": {
    "hidden": true
   },
   "outputs": [
    {
     "data": {
      "text/plain": [
       "200"
      ]
     },
     "execution_count": 134,
     "metadata": {},
     "output_type": "execute_result"
    }
   ],
   "source": [
    "url = \"https://www.bbc.com/news\"\n",
    "\n",
    "content = requests.get(url = url, headers = {'Accept': 'text/html'}, timeout=(3, 27))\n",
    "\n",
    "content.status_code"
   ]
  },
  {
   "cell_type": "code",
   "execution_count": 135,
   "metadata": {
    "hidden": true,
    "scrolled": true
   },
   "outputs": [
    {
     "name": "stdout",
     "output_type": "stream",
     "text": [
      "59                                                 bbc\n",
      "0  Belgian doctors with Covid asked to keep working\n",
      "1  Belgian doctors with Covid asked to keep working\n",
      "2      Water on the Moon could sustain a lunar base\n",
      "3          The Countdown: In an Amy v Hillary world\n",
      "4           How my mum fell for conspiracy theories\n"
     ]
    }
   ],
   "source": [
    "bbc = BeautifulSoup(content.content, 'html.parser')\n",
    "\n",
    "headlines = bbc.find_all('h3')\n",
    "\n",
    "df_bbc = pd.DataFrame([i.text for i in headlines], columns=[\"bbc\"])\n",
    "print (df_bbc.size, df_bbc.head())"
   ]
  },
  {
   "cell_type": "markdown",
   "metadata": {
    "hidden": true
   },
   "source": [
    "### F. CNN"
   ]
  },
  {
   "cell_type": "code",
   "execution_count": 136,
   "metadata": {
    "hidden": true
   },
   "outputs": [
    {
     "data": {
      "text/plain": [
       "200"
      ]
     },
     "execution_count": 136,
     "metadata": {},
     "output_type": "execute_result"
    }
   ],
   "source": [
    "url = \"https://www.cnn.com/business\"\n",
    "\n",
    "content = requests.get(url = url, headers = {'Accept': 'text/html'}, timeout=(3, 27))\n",
    "\n",
    "content.status_code"
   ]
  },
  {
   "cell_type": "code",
   "execution_count": 137,
   "metadata": {
    "hidden": true,
    "scrolled": true
   },
   "outputs": [
    {
     "name": "stdout",
     "output_type": "stream",
     "text": [
      "34                                                  cnn\n",
      "0  Surging Covid-19 cases and a lack of stimulus ...\n",
      "1  Jack Ma's Ant Group raises $34 billion in worl...\n",
      "2  China says it will impose sanctions on Boeing ...\n",
      "3  Want something delivered by Christmas? Order w...\n",
      "4           Here's how to spot misinformation online\n"
     ]
    }
   ],
   "source": [
    "cnn = BeautifulSoup(content.content, 'html.parser')\n",
    "\n",
    "headlines = cnn.find_all(attrs={'class': 'cd__headline'})\n",
    "\n",
    "df_cnn = pd.DataFrame([i.text for i in headlines], columns=[\"cnn\"])\n",
    "print (df_cnn.size, df_cnn.head())"
   ]
  },
  {
   "cell_type": "markdown",
   "metadata": {
    "hidden": true
   },
   "source": [
    "### G. CNBC"
   ]
  },
  {
   "cell_type": "code",
   "execution_count": 138,
   "metadata": {
    "hidden": true
   },
   "outputs": [
    {
     "data": {
      "text/plain": [
       "200"
      ]
     },
     "execution_count": 138,
     "metadata": {},
     "output_type": "execute_result"
    }
   ],
   "source": [
    "url = \"https://www.cnbc.com\"\n",
    "\n",
    "content = requests.get(url = url, headers = {'Accept': 'text/html'}, timeout=(3, 27))\n",
    "\n",
    "content.status_code"
   ]
  },
  {
   "cell_type": "code",
   "execution_count": 139,
   "metadata": {
    "hidden": true,
    "scrolled": false
   },
   "outputs": [
    {
     "name": "stdout",
     "output_type": "stream",
     "text": [
      "34                                                 cnbc\n",
      "0  Dow falls more than 700 points as average dail...\n",
      "1  Stock market live updates: Dow slides 800, VIX...\n",
      "2  Stocks making the biggest moves midday: Hasbro...\n",
      "3  Record earnings beat is still not good enough ...\n",
      "4  Coronavirus updates: U.S. hits record average ...\n"
     ]
    }
   ],
   "source": [
    "cnbc = BeautifulSoup(content.content, 'html.parser')\n",
    "\n",
    "headlines = cnbc.find_all(attrs={'class':'Card-title'})\n",
    "\n",
    "df_cnbc = pd.DataFrame([i.text for i in headlines], columns=[\"cnbc\"])\n",
    "print (df_cnbc.size, df_cnbc.head())"
   ]
  },
  {
   "cell_type": "markdown",
   "metadata": {
    "hidden": true
   },
   "source": [
    "### H. New York Times"
   ]
  },
  {
   "cell_type": "markdown",
   "metadata": {
    "hidden": true
   },
   "source": [
    "Due to its sound reputation we will also use the sub sections and not only the main site."
   ]
  },
  {
   "cell_type": "markdown",
   "metadata": {
    "hidden": true
   },
   "source": [
    "For us relevant: \n",
    "- World https://www.nytimes.com/section/world\n",
    "- Politics https://www.nytimes.com/section/politics\n",
    "- Business https://www.nytimes.com/section/business\n",
    "- Tech https://www.nytimes.com/section/technology"
   ]
  },
  {
   "cell_type": "code",
   "execution_count": 140,
   "metadata": {
    "hidden": true
   },
   "outputs": [
    {
     "data": {
      "text/plain": [
       "200"
      ]
     },
     "execution_count": 140,
     "metadata": {},
     "output_type": "execute_result"
    }
   ],
   "source": [
    "url = \"https://www.nytimes.com/section/world\"\n",
    "\n",
    "content = requests.get(url = url, headers = {'Accept': 'text/html'}, timeout=(3, 27))\n",
    "\n",
    "content.status_code"
   ]
  },
  {
   "cell_type": "code",
   "execution_count": 141,
   "metadata": {
    "hidden": true
   },
   "outputs": [
    {
     "name": "stdout",
     "output_type": "stream",
     "text": [
      "44                                                nyt_w\n",
      "0  A Teacher, His Killer and the Failure of Frenc...\n",
      "1  China Aims to End Extreme Poverty, but Covid-1...\n",
      "2  Women on Qatar Airways Flight Strip-Searched, ...\n",
      "3  Cage Match or P.R. Opportunity? Boris Johnson ...\n",
      "4  With Vacation Rentals Empty, European Cities S...\n"
     ]
    }
   ],
   "source": [
    "nyt_w = BeautifulSoup(content.content, 'html.parser')\n",
    "\n",
    "headlines = nyt_w.find_all(name=\"h2\")\n",
    "\n",
    "df_nyt_w = pd.DataFrame([i.text for i in headlines], columns=[\"nyt_w\"]).iloc[1:].reset_index(drop=True)\n",
    "print (df_nyt_w.size, df_nyt_w.head())"
   ]
  },
  {
   "cell_type": "code",
   "execution_count": 142,
   "metadata": {
    "hidden": true
   },
   "outputs": [
    {
     "data": {
      "text/plain": [
       "200"
      ]
     },
     "execution_count": 142,
     "metadata": {},
     "output_type": "execute_result"
    }
   ],
   "source": [
    "url = \"https://www.nytimes.com/section/politics\"\n",
    "\n",
    "content = requests.get(url = url, headers = {'Accept': 'text/html'}, timeout=(3, 27))\n",
    "\n",
    "content.status_code"
   ]
  },
  {
   "cell_type": "code",
   "execution_count": 143,
   "metadata": {
    "hidden": true
   },
   "outputs": [
    {
     "name": "stdout",
     "output_type": "stream",
     "text": [
      "18                                                nyt_p\n",
      "0  The Two Americas Financing the Trump and Biden...\n",
      "1  Infection of Pence Aides Raises New Questions ...\n",
      "2  Black Senate Candidates in South Tell Democrat...\n",
      "3  Democrats in Many Races Are Moderates. Republi...\n",
      "4  Senators Debate Amy Coney Barrett Confirmation...\n"
     ]
    }
   ],
   "source": [
    "nyt_p = BeautifulSoup(content.content, 'html.parser')\n",
    "\n",
    "headlines = nyt_p.find_all(name=\"h2\")\n",
    "\n",
    "df_nyt_p = pd.DataFrame([i.text for i in headlines], columns=[\"nyt_p\"]).iloc[1:].reset_index(drop=True)\n",
    "print (df_nyt_p.size, df_nyt_p.head())"
   ]
  },
  {
   "cell_type": "code",
   "execution_count": 144,
   "metadata": {
    "hidden": true
   },
   "outputs": [
    {
     "data": {
      "text/plain": [
       "200"
      ]
     },
     "execution_count": 144,
     "metadata": {},
     "output_type": "execute_result"
    }
   ],
   "source": [
    "url = \"https://www.nytimes.com/section/business\"\n",
    "\n",
    "content = requests.get(url = url, headers = {'Accept': 'text/html'}, timeout=(3, 27))\n",
    "\n",
    "content.status_code"
   ]
  },
  {
   "cell_type": "code",
   "execution_count": 145,
   "metadata": {
    "hidden": true
   },
   "outputs": [
    {
     "name": "stdout",
     "output_type": "stream",
     "text": [
      "34                                                nyt_b\n",
      "0  Ant Group Set to Raise $34 Billion in World’s ...\n",
      "1    Stocks Slide as Virus Cases Surge: Live Updates\n",
      "2  How the Virus Slowed the Booming Wind Energy B...\n",
      "3      All About Ant Group, the Next Big Tech I.P.O.\n",
      "4  Kazakhstan, Reversing Itself, Embraces ‘Borat’...\n"
     ]
    }
   ],
   "source": [
    "nyt_b = BeautifulSoup(content.content, 'html.parser')\n",
    "\n",
    "headlines = nyt_b.find_all(name=\"h2\")\n",
    "\n",
    "df_nyt_b = pd.DataFrame([i.text for i in headlines], columns=[\"nyt_b\"]).iloc[1:].reset_index(drop=True)\n",
    "print (df_nyt_b.size, df_nyt_b.head())"
   ]
  },
  {
   "cell_type": "code",
   "execution_count": 146,
   "metadata": {
    "hidden": true
   },
   "outputs": [
    {
     "data": {
      "text/plain": [
       "200"
      ]
     },
     "execution_count": 146,
     "metadata": {},
     "output_type": "execute_result"
    }
   ],
   "source": [
    "url = \"https://www.nytimes.com/section/technology\"\n",
    "\n",
    "content = requests.get(url = url, headers = {'Accept': 'text/html'}, timeout=(3, 27))\n",
    "\n",
    "content.status_code"
   ]
  },
  {
   "cell_type": "code",
   "execution_count": 147,
   "metadata": {
    "hidden": true,
    "scrolled": true
   },
   "outputs": [
    {
     "name": "stdout",
     "output_type": "stream",
     "text": [
      "23                                                nyt_t\n",
      "0  Ant Challenged Beijing and Prospered. Now It T...\n",
      "1      All About Ant Group, the Next Big Tech I.P.O.\n",
      "2  Schools Clamored for Seesaw’s App. That Was Go...\n",
      "3              Driverless Cars Go Humble to Get Real\n",
      "4                                Personal Technology\n"
     ]
    }
   ],
   "source": [
    "nyt_t = BeautifulSoup(content.content, 'html.parser')\n",
    "\n",
    "headlines = nyt_t.find_all(name=\"h2\")\n",
    "\n",
    "df_nyt_t = pd.DataFrame([i.text for i in headlines], columns=[\"nyt_t\"]).iloc[1:].reset_index(drop=True)\n",
    "print (df_nyt_t.size, df_nyt_t.head())"
   ]
  },
  {
   "cell_type": "code",
   "execution_count": 148,
   "metadata": {
    "hidden": true
   },
   "outputs": [],
   "source": [
    "Database = pd.concat([df_bild, df_zeit, df_faz, df_bbc, df_cnn, df_cnbc, df_nyt_w, df_nyt_p, df_nyt_b, df_nyt_t], axis=1, sort=False)"
   ]
  },
  {
   "cell_type": "code",
   "execution_count": 149,
   "metadata": {
    "hidden": true
   },
   "outputs": [
    {
     "data": {
      "text/plain": [
       "Timestamp('2020-10-26 18:49:50.424787')"
      ]
     },
     "execution_count": 149,
     "metadata": {},
     "output_type": "execute_result"
    }
   ],
   "source": [
    "n = pd.to_datetime('now')\n",
    "n"
   ]
  },
  {
   "cell_type": "markdown",
   "metadata": {
    "hidden": true
   },
   "source": [
    "##### Lets add a Timestamp so we can use the Headlines as Timeseries"
   ]
  },
  {
   "cell_type": "code",
   "execution_count": 150,
   "metadata": {
    "hidden": true
   },
   "outputs": [],
   "source": [
    "Database['Timestamp']= n"
   ]
  },
  {
   "cell_type": "code",
   "execution_count": 151,
   "metadata": {
    "hidden": true
   },
   "outputs": [],
   "source": [
    "Database = Database.astype(str)"
   ]
  },
  {
   "cell_type": "code",
   "execution_count": 152,
   "metadata": {
    "hidden": true,
    "scrolled": true
   },
   "outputs": [
    {
     "data": {
      "text/html": [
       "<div>\n",
       "<style scoped>\n",
       "    .dataframe tbody tr th:only-of-type {\n",
       "        vertical-align: middle;\n",
       "    }\n",
       "\n",
       "    .dataframe tbody tr th {\n",
       "        vertical-align: top;\n",
       "    }\n",
       "\n",
       "    .dataframe thead th {\n",
       "        text-align: right;\n",
       "    }\n",
       "</style>\n",
       "<table border=\"1\" class=\"dataframe\">\n",
       "  <thead>\n",
       "    <tr style=\"text-align: right;\">\n",
       "      <th></th>\n",
       "      <th>bild</th>\n",
       "      <th>zeit</th>\n",
       "      <th>faz</th>\n",
       "      <th>bbc</th>\n",
       "      <th>cnn</th>\n",
       "      <th>cnbc</th>\n",
       "      <th>nyt_w</th>\n",
       "      <th>nyt_p</th>\n",
       "      <th>nyt_b</th>\n",
       "      <th>nyt_t</th>\n",
       "      <th>Timestamp</th>\n",
       "    </tr>\n",
       "  </thead>\n",
       "  <tbody>\n",
       "    <tr>\n",
       "      <th>0</th>\n",
       "      <td>Bill Gates on conspiracy theories</td>\n",
       "      <td>\"It's Up To Us\"</td>\n",
       "      <td>„We have to fight misinformation because peopl...</td>\n",
       "      <td>Belgian doctors with Covid asked to keep working</td>\n",
       "      <td>Surging Covid-19 cases and a lack of stimulus ...</td>\n",
       "      <td>Dow falls more than 700 points as average dail...</td>\n",
       "      <td>A Teacher, His Killer and the Failure of Frenc...</td>\n",
       "      <td>The Two Americas Financing the Trump and Biden...</td>\n",
       "      <td>Ant Group Set to Raise $34 Billion in World’s ...</td>\n",
       "      <td>Ant Challenged Beijing and Prospered. Now It T...</td>\n",
       "      <td>2020-10-26 18:49:50.424787</td>\n",
       "    </tr>\n",
       "    <tr>\n",
       "      <th>1</th>\n",
       "      <td>“Run! The planes are bombing again!”</td>\n",
       "      <td>The Nightmare Has Become Reality</td>\n",
       "      <td>Do not ruin the Internet!</td>\n",
       "      <td>Belgian doctors with Covid asked to keep working</td>\n",
       "      <td>Jack Ma's Ant Group raises $34 billion in worl...</td>\n",
       "      <td>Stock market live updates: Dow slides 800, VIX...</td>\n",
       "      <td>China Aims to End Extreme Poverty, but Covid-1...</td>\n",
       "      <td>Infection of Pence Aides Raises New Questions ...</td>\n",
       "      <td>Stocks Slide as Virus Cases Surge: Live Updates</td>\n",
       "      <td>All About Ant Group, the Next Big Tech I.P.O.</td>\n",
       "      <td>2020-10-26 18:49:50.424787</td>\n",
       "    </tr>\n",
       "    <tr>\n",
       "      <th>2</th>\n",
       "      <td>Church bombed to ruins</td>\n",
       "      <td>\"Food Becomes Increasingly Important the More ...</td>\n",
       "      <td>The Black Axe</td>\n",
       "      <td>Water on the Moon could sustain a lunar base</td>\n",
       "      <td>China says it will impose sanctions on Boeing ...</td>\n",
       "      <td>Stocks making the biggest moves midday: Hasbro...</td>\n",
       "      <td>Women on Qatar Airways Flight Strip-Searched, ...</td>\n",
       "      <td>Black Senate Candidates in South Tell Democrat...</td>\n",
       "      <td>How the Virus Slowed the Booming Wind Energy B...</td>\n",
       "      <td>Schools Clamored for Seesaw’s App. That Was Go...</td>\n",
       "      <td>2020-10-26 18:49:50.424787</td>\n",
       "    </tr>\n",
       "    <tr>\n",
       "      <th>3</th>\n",
       "      <td>„The city looks like German cities during the ...</td>\n",
       "      <td>Exorcism in Lieu of Enlightenment</td>\n",
       "      <td>Time for a German-British Friendship Treaty   ...</td>\n",
       "      <td>The Countdown: In an Amy v Hillary world</td>\n",
       "      <td>Want something delivered by Christmas? Order w...</td>\n",
       "      <td>Record earnings beat is still not good enough ...</td>\n",
       "      <td>Cage Match or P.R. Opportunity? Boris Johnson ...</td>\n",
       "      <td>Democrats in Many Races Are Moderates. Republi...</td>\n",
       "      <td>All About Ant Group, the Next Big Tech I.P.O.</td>\n",
       "      <td>Driverless Cars Go Humble to Get Real</td>\n",
       "      <td>2020-10-26 18:49:50.424787</td>\n",
       "    </tr>\n",
       "    <tr>\n",
       "      <th>4</th>\n",
       "      <td>Navalny: Sanction Putin's closest circle</td>\n",
       "      <td>\"None of Us Want to Be Killed\"</td>\n",
       "      <td>The Girl With The Red Coat</td>\n",
       "      <td>How my mum fell for conspiracy theories</td>\n",
       "      <td>Here's how to spot misinformation online</td>\n",
       "      <td>Coronavirus updates: U.S. hits record average ...</td>\n",
       "      <td>With Vacation Rentals Empty, European Cities S...</td>\n",
       "      <td>Senators Debate Amy Coney Barrett Confirmation...</td>\n",
       "      <td>Kazakhstan, Reversing Itself, Embraces ‘Borat’...</td>\n",
       "      <td>Personal Technology</td>\n",
       "      <td>2020-10-26 18:49:50.424787</td>\n",
       "    </tr>\n",
       "    <tr>\n",
       "      <th>5</th>\n",
       "      <td>China is celebrating, the world is suffering</td>\n",
       "      <td>\"Donald Trump is begging for violence\"</td>\n",
       "      <td>Cutting Silicon Valley giants down to size is ...</td>\n",
       "      <td>Trump on battleground campaign blitz</td>\n",
       "      <td>Delta has banned 460 anti-maskers</td>\n",
       "      <td>Pelosi slams White House over virus testing as...</td>\n",
       "      <td>Treaty to Prohibit Nuclear Weapons Passes Impo...</td>\n",
       "      <td>De Blasio Says In-Person Class Attendance Is a...</td>\n",
       "      <td>Japan’s New Leader Sets Ambitious Goal of Carb...</td>\n",
       "      <td>How to Take Better Pet Portraits</td>\n",
       "      <td>2020-10-26 18:49:50.424787</td>\n",
       "    </tr>\n",
       "    <tr>\n",
       "      <th>6</th>\n",
       "      <td>Why the US is withdrawing from the Open Skies ...</td>\n",
       "      <td>Bug in the System</td>\n",
       "      <td>Future Directions in Quantum Tech</td>\n",
       "      <td>Pakistan's first metro line opens in Lahore</td>\n",
       "      <td>Why Trump's latest conspiracy theory can't stick</td>\n",
       "      <td>'Fire them all' — GOP governor rips Congress f...</td>\n",
       "      <td>Pope Francis Appoints First African-American C...</td>\n",
       "      <td>Should You FedEx Your Ballot? No</td>\n",
       "      <td>Apple, Google and a Deal That Controls the Int...</td>\n",
       "      <td>Apple iPhone 12 Review: Superfast Speed, if Yo...</td>\n",
       "      <td>2020-10-26 18:49:50.424787</td>\n",
       "    </tr>\n",
       "    <tr>\n",
       "      <th>7</th>\n",
       "      <td>The Thai king’s secret torture prison</td>\n",
       "      <td>The Internet is Broken, We Need a New One</td>\n",
       "      <td>American War Power</td>\n",
       "      <td>Turkey's Erdogan urges boycott of French products</td>\n",
       "      <td>Trump promised to win the trade war with China...</td>\n",
       "      <td>Falling enrollment, lost tuition puts colleges...</td>\n",
       "      <td>In South Korea, Draft Resisters Still Go to Pr...</td>\n",
       "      <td>With Weakness Among Hispanic Voters, Biden Tra...</td>\n",
       "      <td>Trump Had One Last Story to Sell. The Wall Str...</td>\n",
       "      <td>How to Deal With a Crisis of Misinformation</td>\n",
       "      <td>2020-10-26 18:49:50.424787</td>\n",
       "    </tr>\n",
       "    <tr>\n",
       "      <th>8</th>\n",
       "      <td>„You are endangering the world“</td>\n",
       "      <td>The Machine and the Blood</td>\n",
       "      <td>Are cities saving UN Ideals?</td>\n",
       "      <td>Vice-president to miss Trump Supreme Court vote</td>\n",
       "      <td>Dunkin' Brands in talks to go private</td>\n",
       "      <td>Will there be second $1,200 stimulus checks? W...</td>\n",
       "      <td>As China Clamps Down, Activists Flee Hong Kong...</td>\n",
       "      <td>Trump’s Weakened Hold on Long Island Puts 2 G....</td>\n",
       "      <td>Kodak Loan Debacle Puts a New Agency in the Ho...</td>\n",
       "      <td>Google Chromecast Review: A Streaming Device T...</td>\n",
       "      <td>2020-10-26 18:49:50.424787</td>\n",
       "    </tr>\n",
       "    <tr>\n",
       "      <th>9</th>\n",
       "      <td>„There will be a time for assigning blame“</td>\n",
       "      <td>How Dangerous Is China?</td>\n",
       "      <td>In Birthplace of Nazism, „Never Again“ Must Re...</td>\n",
       "      <td>'Russian air strikes kill dozens' in northern ...</td>\n",
       "      <td>Facebook wants to add cloud games to its platf...</td>\n",
       "      <td>The experts' guide to planning a trip to Hawaii</td>\n",
       "      <td>‘An End to the Chapter of Dictatorship’: Chile...</td>\n",
       "      <td>A New Covid Outbreak at the White House</td>\n",
       "      <td>Subscribe to “With Interest.”</td>\n",
       "      <td>Now You Can Use Instagram to Chat With Friends...</td>\n",
       "      <td>2020-10-26 18:49:50.424787</td>\n",
       "    </tr>\n",
       "    <tr>\n",
       "      <th>10</th>\n",
       "      <td>The Thai king releases himself from quarantine</td>\n",
       "      <td>Bound by Their Closeness to Death</td>\n",
       "      <td>“I can't imagine a better place than Munich”  ...</td>\n",
       "      <td>Toymakers eye strong Christmas sales despite C...</td>\n",
       "      <td>Conservatives push to discredit Facebook, Twit...</td>\n",
       "      <td>Scenes from 5 of the best autumn road trips ar...</td>\n",
       "      <td>New Airport, Beleaguered Symbol of ‘Irreverent...</td>\n",
       "      <td>20,000 Ballots an Hour, With Paper and Ink by ...</td>\n",
       "      <td>Sign Up for the DealBook Newsletter</td>\n",
       "      <td>Ant Group Set to Raise $34 Billion in World’s ...</td>\n",
       "      <td>2020-10-26 18:49:50.424787</td>\n",
       "    </tr>\n",
       "    <tr>\n",
       "      <th>11</th>\n",
       "      <td>Corona Fake News are dangerous for our health</td>\n",
       "      <td>\"I See No Need for an Apology\"</td>\n",
       "      <td>Master narrative with blank spaces</td>\n",
       "      <td>Chinese giant eyes record $34bn market debut</td>\n",
       "      <td>The newspaper that gave Black Britain a megaphone</td>\n",
       "      <td>Hotels on demand: Operators are selling 'subsc...</td>\n",
       "      <td>She Used to Clean City Hall. Now, She Runs It.</td>\n",
       "      <td>How the Trump Era Has Strained, and Strengthen...</td>\n",
       "      <td>Good Reads From the Business Desk</td>\n",
       "      <td>With Vacation Rentals Empty, European Cities S...</td>\n",
       "      <td>2020-10-26 18:49:50.424787</td>\n",
       "    </tr>\n",
       "    <tr>\n",
       "      <th>12</th>\n",
       "      <td>nan</td>\n",
       "      <td>\"Pray for Me\"</td>\n",
       "      <td>„Shell needs to change“</td>\n",
       "      <td>Toymakers eye strong Christmas sales despite C...</td>\n",
       "      <td>A US government agency just paid a record amou...</td>\n",
       "      <td>Preflight Covid-19 testing is on the rise — th...</td>\n",
       "      <td>Indigenous Colombians, Facing New Wave of Brut...</td>\n",
       "      <td>Democrats in Many Races Are Moderates. Republi...</td>\n",
       "      <td>How The Epoch Times Created a Giant Influence ...</td>\n",
       "      <td>Apple, Google and a Deal That Controls the Int...</td>\n",
       "      <td>2020-10-26 18:49:50.424787</td>\n",
       "    </tr>\n",
       "    <tr>\n",
       "      <th>13</th>\n",
       "      <td>nan</td>\n",
       "      <td>What does Solidarity mean</td>\n",
       "      <td>The West must take the chance</td>\n",
       "      <td>Chinese giant eyes record $34bn market debut</td>\n",
       "      <td>3 reasons markets could be in for a bumpy week</td>\n",
       "      <td>More than 600 million people traveled in China...</td>\n",
       "      <td>Bangkok Is Engulfed by Protests. What’s Drivin...</td>\n",
       "      <td>Questions and Answers About the Bidens and a D...</td>\n",
       "      <td>As Local News Dies, a Pay-for-Play Network Ris...</td>\n",
       "      <td>How The Epoch Times Created a Giant Influence ...</td>\n",
       "      <td>2020-10-26 18:49:50.424787</td>\n",
       "    </tr>\n",
       "    <tr>\n",
       "      <th>14</th>\n",
       "      <td>nan</td>\n",
       "      <td>To Corona and Back</td>\n",
       "      <td>The growing rivalry between the US and China  ...</td>\n",
       "      <td>Militants 'raise more cash than Somali governm...</td>\n",
       "      <td>The iPhone 12's ceramic shield screen is tough...</td>\n",
       "      <td>How voting rights groups are providing free an...</td>\n",
       "      <td>The Coronavirus Outbreak</td>\n",
       "      <td>The On Politics Newsletter</td>\n",
       "      <td>The White Issue: Has Anna Wintour’s Diversity ...</td>\n",
       "      <td>Everyone Is Gay on TikTok</td>\n",
       "      <td>2020-10-26 18:49:50.424787</td>\n",
       "    </tr>\n",
       "    <tr>\n",
       "      <th>15</th>\n",
       "      <td>nan</td>\n",
       "      <td>\"For Donald Trump, Money Is Something the Bank...</td>\n",
       "      <td>„I also want to continue to serve Europe“</td>\n",
       "      <td>'Grossly disturbing' strip-searches anger Aust...</td>\n",
       "      <td>Families are bored, so Monopoly sales are soaring</td>\n",
       "      <td>Shaquille O'Neal says Magic Johnson gave him t...</td>\n",
       "      <td>How Long Can N.Y.C. Museums Survive at 25 Perc...</td>\n",
       "      <td>Follow Us</td>\n",
       "      <td>The Short Tenure and Abrupt Ouster of Banking’...</td>\n",
       "      <td>Trump’s Claims About Hunter Biden Send Online ...</td>\n",
       "      <td>2020-10-26 18:49:50.424787</td>\n",
       "    </tr>\n",
       "    <tr>\n",
       "      <th>16</th>\n",
       "      <td>nan</td>\n",
       "      <td>It All Depends on You Now!</td>\n",
       "      <td>Why Germany Should Love a World Dominated by A...</td>\n",
       "      <td>'Living in Meghan's shoes' helped Harry see bias</td>\n",
       "      <td>Battle for online shoppers begins as Indians s...</td>\n",
       "      <td>Happiness expert: One technique for staying up...</td>\n",
       "      <td>De Blasio Says In-Person Class Attendance Is a...</td>\n",
       "      <td>Site Index</td>\n",
       "      <td>Apollo Clients Await Inquiry’s Findings on Chi...</td>\n",
       "      <td>U.S. Issues Sanctions on Russian Center Involv...</td>\n",
       "      <td>2020-10-26 18:49:50.424787</td>\n",
       "    </tr>\n",
       "    <tr>\n",
       "      <th>17</th>\n",
       "      <td>nan</td>\n",
       "      <td>An Unprecedented Pandemic</td>\n",
       "      <td>Towards a genuine capital markets union</td>\n",
       "      <td>Why the US election matters for the UK</td>\n",
       "      <td>India offers phone suppliers production incent...</td>\n",
       "      <td>How a 32-year-old who makes $39,000 and lives ...</td>\n",
       "      <td>Only 26% of N.Y.C. Students Attend In-Person C...</td>\n",
       "      <td>Site Information Navigation</td>\n",
       "      <td>Dunkin’ Brands has done well in the pandemic. ...</td>\n",
       "      <td>What Went Viral This Week</td>\n",
       "      <td>2020-10-26 18:49:50.424787</td>\n",
       "    </tr>\n",
       "    <tr>\n",
       "      <th>18</th>\n",
       "      <td>nan</td>\n",
       "      <td>\"We Have To Bring Down the Number of Cases Now\"</td>\n",
       "      <td>What a dream!</td>\n",
       "      <td>A really simple guide to the US election</td>\n",
       "      <td>Ambani raises $3.4 billion in just a few weeks</td>\n",
       "      <td>How I’ve made thousands of dollars a month in ...</td>\n",
       "      <td>Colleges Are Slashing Budgets</td>\n",
       "      <td>nan</td>\n",
       "      <td>Why Dunkin’ is Worth Nearly $9 Billion</td>\n",
       "      <td>Russians Who Pose Election Threat Have Hacked ...</td>\n",
       "      <td>2020-10-26 18:49:50.424787</td>\n",
       "    </tr>\n",
       "    <tr>\n",
       "      <th>19</th>\n",
       "      <td>nan</td>\n",
       "      <td>This Is Our Home</td>\n",
       "      <td>Four Ideas to Regulate the Internet</td>\n",
       "      <td>Where Trump and Biden stand on guns, race and ...</td>\n",
       "      <td>Harley-Davidson is closing its factory in India</td>\n",
       "      <td>Value investor Bill Nygren just exited a high-...</td>\n",
       "      <td>Coronavirus Briefing: What Happened Today</td>\n",
       "      <td>nan</td>\n",
       "      <td>Women on Qatar Airways Flight Strip-Searched, ...</td>\n",
       "      <td>Fox News Is Covering Hunter Biden Claims More ...</td>\n",
       "      <td>2020-10-26 18:49:50.424787</td>\n",
       "    </tr>\n",
       "    <tr>\n",
       "      <th>20</th>\n",
       "      <td>nan</td>\n",
       "      <td>nan</td>\n",
       "      <td>nan</td>\n",
       "      <td>Who will be the next US president? You decide</td>\n",
       "      <td>Facebook has more users in India than anywhere...</td>\n",
       "      <td>Mike Santoli's market notes: Key S&amp;P 500 level...</td>\n",
       "      <td>Read The Times in Spanish</td>\n",
       "      <td>nan</td>\n",
       "      <td>Dunkin’ Brands Is in Talks to Sell Itself and ...</td>\n",
       "      <td>Follow Us</td>\n",
       "      <td>2020-10-26 18:49:50.424787</td>\n",
       "    </tr>\n",
       "    <tr>\n",
       "      <th>21</th>\n",
       "      <td>nan</td>\n",
       "      <td>nan</td>\n",
       "      <td>nan</td>\n",
       "      <td>Why we might have to wait for a result</td>\n",
       "      <td>A year ago, this coffee company had 750 custom...</td>\n",
       "      <td>Goldman says these stocks could be winners as ...</td>\n",
       "      <td>‘Nos van a exterminar’: indígenas colombianos ...</td>\n",
       "      <td>nan</td>\n",
       "      <td>The Week in Business: A Headache for Big Tech</td>\n",
       "      <td>Site Index</td>\n",
       "      <td>2020-10-26 18:49:50.424787</td>\n",
       "    </tr>\n",
       "    <tr>\n",
       "      <th>22</th>\n",
       "      <td>nan</td>\n",
       "      <td>nan</td>\n",
       "      <td>nan</td>\n",
       "      <td>'I went to school and woke up in intensive care'</td>\n",
       "      <td>Coke is canceling 200 drink brands</td>\n",
       "      <td>Cramer says there 'might be an opportunity' in...</td>\n",
       "      <td>La ONU a los 75 años, entre la calamidad y el ...</td>\n",
       "      <td>nan</td>\n",
       "      <td>With Vacation Rentals Empty, European Cities S...</td>\n",
       "      <td>Site Information Navigation</td>\n",
       "      <td>2020-10-26 18:49:50.424787</td>\n",
       "    </tr>\n",
       "    <tr>\n",
       "      <th>23</th>\n",
       "      <td>nan</td>\n",
       "      <td>nan</td>\n",
       "      <td>nan</td>\n",
       "      <td>BBC World News TV</td>\n",
       "      <td>Japanese craft breweries turn unsold beer into...</td>\n",
       "      <td>It 'looks like the clock has run out' on a ne...</td>\n",
       "      <td>El #MeToo llegó a Irán</td>\n",
       "      <td>nan</td>\n",
       "      <td>Conservative News Sites Fuel Voter Fraud Misin...</td>\n",
       "      <td>nan</td>\n",
       "      <td>2020-10-26 18:49:50.424787</td>\n",
       "    </tr>\n",
       "    <tr>\n",
       "      <th>24</th>\n",
       "      <td>nan</td>\n",
       "      <td>nan</td>\n",
       "      <td>nan</td>\n",
       "      <td>BBC World Service Radio</td>\n",
       "      <td>Guinness is making a non-alcoholic version</td>\n",
       "      <td>Urban rewilding: Nature-inspired techniques ar...</td>\n",
       "      <td>Dos artistas en quiebra abrieron una panadería...</td>\n",
       "      <td>nan</td>\n",
       "      <td>Grow a Hydroponic Garden</td>\n",
       "      <td>nan</td>\n",
       "      <td>2020-10-26 18:49:50.424787</td>\n",
       "    </tr>\n",
       "    <tr>\n",
       "      <th>25</th>\n",
       "      <td>nan</td>\n",
       "      <td>nan</td>\n",
       "      <td>nan</td>\n",
       "      <td>Dr Fauci: Vaccine result could come by December</td>\n",
       "      <td>Cannabis drink has a familiar name: PBR</td>\n",
       "      <td>Walmart has a grand plan to help suppliers clu...</td>\n",
       "      <td>El festival de la nieve de estrellas de Perú p...</td>\n",
       "      <td>nan</td>\n",
       "      <td>Lee Kun-hee, Who Built Samsung Into a Global G...</td>\n",
       "      <td>nan</td>\n",
       "      <td>2020-10-26 18:49:50.424787</td>\n",
       "    </tr>\n",
       "    <tr>\n",
       "      <th>26</th>\n",
       "      <td>nan</td>\n",
       "      <td>nan</td>\n",
       "      <td>nan</td>\n",
       "      <td>'Help! Everyone around me disagrees with my po...</td>\n",
       "      <td>Here's what you need to know about the iPhone 12</td>\n",
       "      <td>Danone hopes it’s blazing a trail by adopting ...</td>\n",
       "      <td>Dispatches</td>\n",
       "      <td>nan</td>\n",
       "      <td>Business Delivered to Your Inbox</td>\n",
       "      <td>nan</td>\n",
       "      <td>2020-10-26 18:49:50.424787</td>\n",
       "    </tr>\n",
       "    <tr>\n",
       "      <th>27</th>\n",
       "      <td>nan</td>\n",
       "      <td>nan</td>\n",
       "      <td>nan</td>\n",
       "      <td>First US 'murder hornet' nest eradicated with ...</td>\n",
       "      <td>Could this be the cure to our plastic problem?</td>\n",
       "      <td>Meet the dairy firm hoping to power its delive...</td>\n",
       "      <td>2 Broke Artists Started a Bakery at Home. It’s...</td>\n",
       "      <td>nan</td>\n",
       "      <td>DealBook</td>\n",
       "      <td>nan</td>\n",
       "      <td>2020-10-26 18:49:50.424787</td>\n",
       "    </tr>\n",
       "    <tr>\n",
       "      <th>28</th>\n",
       "      <td>nan</td>\n",
       "      <td>nan</td>\n",
       "      <td>nan</td>\n",
       "      <td>Composer with dementia hears piece for first time</td>\n",
       "      <td>This material could transform the solar energy...</td>\n",
       "      <td>Are shoppers the biggest hurdle to corporation...</td>\n",
       "      <td>‘If There Were No Hashish Here, You Wouldn’t S...</td>\n",
       "      <td>nan</td>\n",
       "      <td>On Tech With Shira Ovide</td>\n",
       "      <td>nan</td>\n",
       "      <td>2020-10-26 18:49:50.424787</td>\n",
       "    </tr>\n",
       "    <tr>\n",
       "      <th>29</th>\n",
       "      <td>nan</td>\n",
       "      <td>nan</td>\n",
       "      <td>nan</td>\n",
       "      <td>US pulls plan to give early Covid vaccine to S...</td>\n",
       "      <td>Are drone deliveries the answer for supply cha...</td>\n",
       "      <td>As Chinese investment into Ireland surges, Dub...</td>\n",
       "      <td>‘Call Me a Dreamer’: A Shattered Beirut Neighb...</td>\n",
       "      <td>nan</td>\n",
       "      <td>With Interest</td>\n",
       "      <td>nan</td>\n",
       "      <td>2020-10-26 18:49:50.424787</td>\n",
       "    </tr>\n",
       "    <tr>\n",
       "      <th>30</th>\n",
       "      <td>nan</td>\n",
       "      <td>nan</td>\n",
       "      <td>nan</td>\n",
       "      <td>How the Czech Covid response went wrong</td>\n",
       "      <td>BTS has the golden touch. Management hopes tha...</td>\n",
       "      <td>Ireland presents mega-budget amid Brexit and t...</td>\n",
       "      <td>‘Keep Calm and Carry On’ May Not Work in a Tim...</td>\n",
       "      <td>nan</td>\n",
       "      <td>Your Money</td>\n",
       "      <td>nan</td>\n",
       "      <td>2020-10-26 18:49:50.424787</td>\n",
       "    </tr>\n",
       "    <tr>\n",
       "      <th>31</th>\n",
       "      <td>nan</td>\n",
       "      <td>nan</td>\n",
       "      <td>nan</td>\n",
       "      <td>Egypt sex attacks fuel 'feminist revolution'</td>\n",
       "      <td>South Africa has the world's worst youth unemp...</td>\n",
       "      <td>Ireland rejects another full lockdown as growt...</td>\n",
       "      <td>30 Years After Reunification, Old German-Germa...</td>\n",
       "      <td>nan</td>\n",
       "      <td>Follow Us</td>\n",
       "      <td>nan</td>\n",
       "      <td>2020-10-26 18:49:50.424787</td>\n",
       "    </tr>\n",
       "    <tr>\n",
       "      <th>32</th>\n",
       "      <td>nan</td>\n",
       "      <td>nan</td>\n",
       "      <td>nan</td>\n",
       "      <td>Why Nigerian looters are targeting Covid-19 aid</td>\n",
       "      <td>'Coal has no place in Covid-19 recovery plans,...</td>\n",
       "      <td>Airbnb faces calls for stricter enforcement of...</td>\n",
       "      <td>Gaza Court Convicts Peace Activists for Video ...</td>\n",
       "      <td>nan</td>\n",
       "      <td>Site Index</td>\n",
       "      <td>nan</td>\n",
       "      <td>2020-10-26 18:49:50.424787</td>\n",
       "    </tr>\n",
       "    <tr>\n",
       "      <th>33</th>\n",
       "      <td>nan</td>\n",
       "      <td>nan</td>\n",
       "      <td>nan</td>\n",
       "      <td>'Dangerous and dirty' used cars sold to Africa</td>\n",
       "      <td>Can a virtual yellow card unblock intra-Africa...</td>\n",
       "      <td>Google abandoning a new Dublin office signals ...</td>\n",
       "      <td>British Commandos Storm Tanker, Ending Standof...</td>\n",
       "      <td>nan</td>\n",
       "      <td>Site Information Navigation</td>\n",
       "      <td>nan</td>\n",
       "      <td>2020-10-26 18:49:50.424787</td>\n",
       "    </tr>\n",
       "    <tr>\n",
       "      <th>34</th>\n",
       "      <td>nan</td>\n",
       "      <td>nan</td>\n",
       "      <td>nan</td>\n",
       "      <td>'This is our chance to make things right'</td>\n",
       "      <td>nan</td>\n",
       "      <td>nan</td>\n",
       "      <td>Russian Airstrikes Kill Dozens of Turkish-Back...</td>\n",
       "      <td>nan</td>\n",
       "      <td>nan</td>\n",
       "      <td>nan</td>\n",
       "      <td>2020-10-26 18:49:50.424787</td>\n",
       "    </tr>\n",
       "    <tr>\n",
       "      <th>35</th>\n",
       "      <td>nan</td>\n",
       "      <td>nan</td>\n",
       "      <td>nan</td>\n",
       "      <td>The explosive problem of 'zombie' batteries</td>\n",
       "      <td>nan</td>\n",
       "      <td>nan</td>\n",
       "      <td>Arts Bailout in U.K. Buys Time, but No Peace o...</td>\n",
       "      <td>nan</td>\n",
       "      <td>nan</td>\n",
       "      <td>nan</td>\n",
       "      <td>2020-10-26 18:49:50.424787</td>\n",
       "    </tr>\n",
       "    <tr>\n",
       "      <th>36</th>\n",
       "      <td>nan</td>\n",
       "      <td>nan</td>\n",
       "      <td>nan</td>\n",
       "      <td>US election unites Indian and Pakistani diaspora</td>\n",
       "      <td>nan</td>\n",
       "      <td>nan</td>\n",
       "      <td>Ant Group Set to Raise $34 Billion in World’s ...</td>\n",
       "      <td>nan</td>\n",
       "      <td>nan</td>\n",
       "      <td>nan</td>\n",
       "      <td>2020-10-26 18:49:50.424787</td>\n",
       "    </tr>\n",
       "    <tr>\n",
       "      <th>37</th>\n",
       "      <td>nan</td>\n",
       "      <td>nan</td>\n",
       "      <td>nan</td>\n",
       "      <td>The man who declared victory over coronavirus</td>\n",
       "      <td>nan</td>\n",
       "      <td>nan</td>\n",
       "      <td>The Trump Economy</td>\n",
       "      <td>nan</td>\n",
       "      <td>nan</td>\n",
       "      <td>nan</td>\n",
       "      <td>2020-10-26 18:49:50.424787</td>\n",
       "    </tr>\n",
       "    <tr>\n",
       "      <th>38</th>\n",
       "      <td>nan</td>\n",
       "      <td>nan</td>\n",
       "      <td>nan</td>\n",
       "      <td>Did we ever 'follow the science'?</td>\n",
       "      <td>nan</td>\n",
       "      <td>nan</td>\n",
       "      <td>Witnessing Peru’s Enduring, if Altered, Snow S...</td>\n",
       "      <td>nan</td>\n",
       "      <td>nan</td>\n",
       "      <td>nan</td>\n",
       "      <td>2020-10-26 18:49:50.424787</td>\n",
       "    </tr>\n",
       "    <tr>\n",
       "      <th>39</th>\n",
       "      <td>nan</td>\n",
       "      <td>nan</td>\n",
       "      <td>nan</td>\n",
       "      <td>Aberfan: The mistake that cost a village its c...</td>\n",
       "      <td>nan</td>\n",
       "      <td>nan</td>\n",
       "      <td>How the Virus Slowed the Booming Wind Energy B...</td>\n",
       "      <td>nan</td>\n",
       "      <td>nan</td>\n",
       "      <td>nan</td>\n",
       "      <td>2020-10-26 18:49:50.424787</td>\n",
       "    </tr>\n",
       "    <tr>\n",
       "      <th>40</th>\n",
       "      <td>nan</td>\n",
       "      <td>nan</td>\n",
       "      <td>nan</td>\n",
       "      <td>From the archive: An incredible mission to sep...</td>\n",
       "      <td>nan</td>\n",
       "      <td>nan</td>\n",
       "      <td>Spain, Covid-19, Airbnb: Your Monday Briefing</td>\n",
       "      <td>nan</td>\n",
       "      <td>nan</td>\n",
       "      <td>nan</td>\n",
       "      <td>2020-10-26 18:49:50.424787</td>\n",
       "    </tr>\n",
       "    <tr>\n",
       "      <th>41</th>\n",
       "      <td>nan</td>\n",
       "      <td>nan</td>\n",
       "      <td>nan</td>\n",
       "      <td>‘I hugged the man who murdered my father’</td>\n",
       "      <td>nan</td>\n",
       "      <td>nan</td>\n",
       "      <td>The Fox News president and several anchors wer...</td>\n",
       "      <td>nan</td>\n",
       "      <td>nan</td>\n",
       "      <td>nan</td>\n",
       "      <td>2020-10-26 18:49:50.424787</td>\n",
       "    </tr>\n",
       "    <tr>\n",
       "      <th>42</th>\n",
       "      <td>nan</td>\n",
       "      <td>nan</td>\n",
       "      <td>nan</td>\n",
       "      <td>Why food allergies are on the rise</td>\n",
       "      <td>nan</td>\n",
       "      <td>nan</td>\n",
       "      <td>Site Index</td>\n",
       "      <td>nan</td>\n",
       "      <td>nan</td>\n",
       "      <td>nan</td>\n",
       "      <td>2020-10-26 18:49:50.424787</td>\n",
       "    </tr>\n",
       "    <tr>\n",
       "      <th>43</th>\n",
       "      <td>nan</td>\n",
       "      <td>nan</td>\n",
       "      <td>nan</td>\n",
       "      <td>The pandemic’s biggest unknowns</td>\n",
       "      <td>nan</td>\n",
       "      <td>nan</td>\n",
       "      <td>Site Information Navigation</td>\n",
       "      <td>nan</td>\n",
       "      <td>nan</td>\n",
       "      <td>nan</td>\n",
       "      <td>2020-10-26 18:49:50.424787</td>\n",
       "    </tr>\n",
       "    <tr>\n",
       "      <th>44</th>\n",
       "      <td>nan</td>\n",
       "      <td>nan</td>\n",
       "      <td>nan</td>\n",
       "      <td>A Polynesian custom thwarting Covid-19</td>\n",
       "      <td>nan</td>\n",
       "      <td>nan</td>\n",
       "      <td>nan</td>\n",
       "      <td>nan</td>\n",
       "      <td>nan</td>\n",
       "      <td>nan</td>\n",
       "      <td>2020-10-26 18:49:50.424787</td>\n",
       "    </tr>\n",
       "    <tr>\n",
       "      <th>45</th>\n",
       "      <td>nan</td>\n",
       "      <td>nan</td>\n",
       "      <td>nan</td>\n",
       "      <td>How The West Wing foreshadowed Obama</td>\n",
       "      <td>nan</td>\n",
       "      <td>nan</td>\n",
       "      <td>nan</td>\n",
       "      <td>nan</td>\n",
       "      <td>nan</td>\n",
       "      <td>nan</td>\n",
       "      <td>2020-10-26 18:49:50.424787</td>\n",
       "    </tr>\n",
       "    <tr>\n",
       "      <th>46</th>\n",
       "      <td>nan</td>\n",
       "      <td>nan</td>\n",
       "      <td>nan</td>\n",
       "      <td>How much of your body is actually you?</td>\n",
       "      <td>nan</td>\n",
       "      <td>nan</td>\n",
       "      <td>nan</td>\n",
       "      <td>nan</td>\n",
       "      <td>nan</td>\n",
       "      <td>nan</td>\n",
       "      <td>2020-10-26 18:49:50.424787</td>\n",
       "    </tr>\n",
       "    <tr>\n",
       "      <th>47</th>\n",
       "      <td>nan</td>\n",
       "      <td>nan</td>\n",
       "      <td>nan</td>\n",
       "      <td>The grim fate ‘worse than extinction’</td>\n",
       "      <td>nan</td>\n",
       "      <td>nan</td>\n",
       "      <td>nan</td>\n",
       "      <td>nan</td>\n",
       "      <td>nan</td>\n",
       "      <td>nan</td>\n",
       "      <td>2020-10-26 18:49:50.424787</td>\n",
       "    </tr>\n",
       "    <tr>\n",
       "      <th>48</th>\n",
       "      <td>nan</td>\n",
       "      <td>nan</td>\n",
       "      <td>nan</td>\n",
       "      <td>The best way to beat burnout?</td>\n",
       "      <td>nan</td>\n",
       "      <td>nan</td>\n",
       "      <td>nan</td>\n",
       "      <td>nan</td>\n",
       "      <td>nan</td>\n",
       "      <td>nan</td>\n",
       "      <td>2020-10-26 18:49:50.424787</td>\n",
       "    </tr>\n",
       "    <tr>\n",
       "      <th>49</th>\n",
       "      <td>nan</td>\n",
       "      <td>nan</td>\n",
       "      <td>nan</td>\n",
       "      <td>Premier League: Brighton 1-0 West Brom - Liver...</td>\n",
       "      <td>nan</td>\n",
       "      <td>nan</td>\n",
       "      <td>nan</td>\n",
       "      <td>nan</td>\n",
       "      <td>nan</td>\n",
       "      <td>nan</td>\n",
       "      <td>2020-10-26 18:49:50.424787</td>\n",
       "    </tr>\n",
       "    <tr>\n",
       "      <th>50</th>\n",
       "      <td>nan</td>\n",
       "      <td>nan</td>\n",
       "      <td>nan</td>\n",
       "      <td>Pogba plans to sue over 'fake' reports of inte...</td>\n",
       "      <td>nan</td>\n",
       "      <td>nan</td>\n",
       "      <td>nan</td>\n",
       "      <td>nan</td>\n",
       "      <td>nan</td>\n",
       "      <td>nan</td>\n",
       "      <td>2020-10-26 18:49:50.424787</td>\n",
       "    </tr>\n",
       "    <tr>\n",
       "      <th>51</th>\n",
       "      <td>nan</td>\n",
       "      <td>nan</td>\n",
       "      <td>nan</td>\n",
       "      <td>Mercedes boss Wolff has 'no concern' over whet...</td>\n",
       "      <td>nan</td>\n",
       "      <td>nan</td>\n",
       "      <td>nan</td>\n",
       "      <td>nan</td>\n",
       "      <td>nan</td>\n",
       "      <td>nan</td>\n",
       "      <td>2020-10-26 18:49:50.424787</td>\n",
       "    </tr>\n",
       "    <tr>\n",
       "      <th>52</th>\n",
       "      <td>nan</td>\n",
       "      <td>nan</td>\n",
       "      <td>nan</td>\n",
       "      <td>Beckham Jr out for season with ACL tear</td>\n",
       "      <td>nan</td>\n",
       "      <td>nan</td>\n",
       "      <td>nan</td>\n",
       "      <td>nan</td>\n",
       "      <td>nan</td>\n",
       "      <td>nan</td>\n",
       "      <td>2020-10-26 18:49:50.424787</td>\n",
       "    </tr>\n",
       "    <tr>\n",
       "      <th>53</th>\n",
       "      <td>nan</td>\n",
       "      <td>nan</td>\n",
       "      <td>nan</td>\n",
       "      <td>India without injured Rohit &amp; Ishant for Austr...</td>\n",
       "      <td>nan</td>\n",
       "      <td>nan</td>\n",
       "      <td>nan</td>\n",
       "      <td>nan</td>\n",
       "      <td>nan</td>\n",
       "      <td>nan</td>\n",
       "      <td>2020-10-26 18:49:50.424787</td>\n",
       "    </tr>\n",
       "    <tr>\n",
       "      <th>54</th>\n",
       "      <td>nan</td>\n",
       "      <td>nan</td>\n",
       "      <td>nan</td>\n",
       "      <td>Stokes on coping with fame, life in quarantine...</td>\n",
       "      <td>nan</td>\n",
       "      <td>nan</td>\n",
       "      <td>nan</td>\n",
       "      <td>nan</td>\n",
       "      <td>nan</td>\n",
       "      <td>nan</td>\n",
       "      <td>2020-10-26 18:49:50.424787</td>\n",
       "    </tr>\n",
       "    <tr>\n",
       "      <th>55</th>\n",
       "      <td>nan</td>\n",
       "      <td>nan</td>\n",
       "      <td>nan</td>\n",
       "      <td>England go to 'plan B' for Six Nations finale ...</td>\n",
       "      <td>nan</td>\n",
       "      <td>nan</td>\n",
       "      <td>nan</td>\n",
       "      <td>nan</td>\n",
       "      <td>nan</td>\n",
       "      <td>nan</td>\n",
       "      <td>2020-10-26 18:49:50.424787</td>\n",
       "    </tr>\n",
       "    <tr>\n",
       "      <th>56</th>\n",
       "      <td>nan</td>\n",
       "      <td>nan</td>\n",
       "      <td>nan</td>\n",
       "      <td>News daily newsletter</td>\n",
       "      <td>nan</td>\n",
       "      <td>nan</td>\n",
       "      <td>nan</td>\n",
       "      <td>nan</td>\n",
       "      <td>nan</td>\n",
       "      <td>nan</td>\n",
       "      <td>2020-10-26 18:49:50.424787</td>\n",
       "    </tr>\n",
       "    <tr>\n",
       "      <th>57</th>\n",
       "      <td>nan</td>\n",
       "      <td>nan</td>\n",
       "      <td>nan</td>\n",
       "      <td>Mobile app</td>\n",
       "      <td>nan</td>\n",
       "      <td>nan</td>\n",
       "      <td>nan</td>\n",
       "      <td>nan</td>\n",
       "      <td>nan</td>\n",
       "      <td>nan</td>\n",
       "      <td>2020-10-26 18:49:50.424787</td>\n",
       "    </tr>\n",
       "    <tr>\n",
       "      <th>58</th>\n",
       "      <td>nan</td>\n",
       "      <td>nan</td>\n",
       "      <td>nan</td>\n",
       "      <td>Get in touch</td>\n",
       "      <td>nan</td>\n",
       "      <td>nan</td>\n",
       "      <td>nan</td>\n",
       "      <td>nan</td>\n",
       "      <td>nan</td>\n",
       "      <td>nan</td>\n",
       "      <td>2020-10-26 18:49:50.424787</td>\n",
       "    </tr>\n",
       "  </tbody>\n",
       "</table>\n",
       "</div>"
      ],
      "text/plain": [
       "                                                 bild  \\\n",
       "0                   Bill Gates on conspiracy theories   \n",
       "1                “Run! The planes are bombing again!”   \n",
       "2                              Church bombed to ruins   \n",
       "3   „The city looks like German cities during the ...   \n",
       "4           Navalny: Sanction Putin's closest circle    \n",
       "5        China is celebrating, the world is suffering   \n",
       "6   Why the US is withdrawing from the Open Skies ...   \n",
       "7               The Thai king’s secret torture prison   \n",
       "8                     „You are endangering the world“   \n",
       "9          „There will be a time for assigning blame“   \n",
       "10     The Thai king releases himself from quarantine   \n",
       "11      Corona Fake News are dangerous for our health   \n",
       "12                                                nan   \n",
       "13                                                nan   \n",
       "14                                                nan   \n",
       "15                                                nan   \n",
       "16                                                nan   \n",
       "17                                                nan   \n",
       "18                                                nan   \n",
       "19                                                nan   \n",
       "20                                                nan   \n",
       "21                                                nan   \n",
       "22                                                nan   \n",
       "23                                                nan   \n",
       "24                                                nan   \n",
       "25                                                nan   \n",
       "26                                                nan   \n",
       "27                                                nan   \n",
       "28                                                nan   \n",
       "29                                                nan   \n",
       "30                                                nan   \n",
       "31                                                nan   \n",
       "32                                                nan   \n",
       "33                                                nan   \n",
       "34                                                nan   \n",
       "35                                                nan   \n",
       "36                                                nan   \n",
       "37                                                nan   \n",
       "38                                                nan   \n",
       "39                                                nan   \n",
       "40                                                nan   \n",
       "41                                                nan   \n",
       "42                                                nan   \n",
       "43                                                nan   \n",
       "44                                                nan   \n",
       "45                                                nan   \n",
       "46                                                nan   \n",
       "47                                                nan   \n",
       "48                                                nan   \n",
       "49                                                nan   \n",
       "50                                                nan   \n",
       "51                                                nan   \n",
       "52                                                nan   \n",
       "53                                                nan   \n",
       "54                                                nan   \n",
       "55                                                nan   \n",
       "56                                                nan   \n",
       "57                                                nan   \n",
       "58                                                nan   \n",
       "\n",
       "                                                 zeit  \\\n",
       "0                                    \"It's Up To Us\"    \n",
       "1                    The Nightmare Has Become Reality   \n",
       "2   \"Food Becomes Increasingly Important the More ...   \n",
       "3                   Exorcism in Lieu of Enlightenment   \n",
       "4                      \"None of Us Want to Be Killed\"   \n",
       "5              \"Donald Trump is begging for violence\"   \n",
       "6                                   Bug in the System   \n",
       "7           The Internet is Broken, We Need a New One   \n",
       "8                           The Machine and the Blood   \n",
       "9                             How Dangerous Is China?   \n",
       "10                  Bound by Their Closeness to Death   \n",
       "11                     \"I See No Need for an Apology\"   \n",
       "12                                      \"Pray for Me\"   \n",
       "13                          What does Solidarity mean   \n",
       "14                                 To Corona and Back   \n",
       "15  \"For Donald Trump, Money Is Something the Bank...   \n",
       "16                         It All Depends on You Now!   \n",
       "17                          An Unprecedented Pandemic   \n",
       "18   \"We Have To Bring Down the Number of Cases Now\"    \n",
       "19                                   This Is Our Home   \n",
       "20                                                nan   \n",
       "21                                                nan   \n",
       "22                                                nan   \n",
       "23                                                nan   \n",
       "24                                                nan   \n",
       "25                                                nan   \n",
       "26                                                nan   \n",
       "27                                                nan   \n",
       "28                                                nan   \n",
       "29                                                nan   \n",
       "30                                                nan   \n",
       "31                                                nan   \n",
       "32                                                nan   \n",
       "33                                                nan   \n",
       "34                                                nan   \n",
       "35                                                nan   \n",
       "36                                                nan   \n",
       "37                                                nan   \n",
       "38                                                nan   \n",
       "39                                                nan   \n",
       "40                                                nan   \n",
       "41                                                nan   \n",
       "42                                                nan   \n",
       "43                                                nan   \n",
       "44                                                nan   \n",
       "45                                                nan   \n",
       "46                                                nan   \n",
       "47                                                nan   \n",
       "48                                                nan   \n",
       "49                                                nan   \n",
       "50                                                nan   \n",
       "51                                                nan   \n",
       "52                                                nan   \n",
       "53                                                nan   \n",
       "54                                                nan   \n",
       "55                                                nan   \n",
       "56                                                nan   \n",
       "57                                                nan   \n",
       "58                                                nan   \n",
       "\n",
       "                                                  faz  \\\n",
       "0   „We have to fight misinformation because peopl...   \n",
       "1                   Do not ruin the Internet!           \n",
       "2                               The Black Axe           \n",
       "3   Time for a German-British Friendship Treaty   ...   \n",
       "4                  The Girl With The Red Coat           \n",
       "5   Cutting Silicon Valley giants down to size is ...   \n",
       "6           Future Directions in Quantum Tech           \n",
       "7                          American War Power           \n",
       "8                Are cities saving UN Ideals?           \n",
       "9   In Birthplace of Nazism, „Never Again“ Must Re...   \n",
       "10  “I can't imagine a better place than Munich”  ...   \n",
       "11         Master narrative with blank spaces           \n",
       "12                    „Shell needs to change“           \n",
       "13              The West must take the chance           \n",
       "14  The growing rivalry between the US and China  ...   \n",
       "15  „I also want to continue to serve Europe“           \n",
       "16  Why Germany Should Love a World Dominated by A...   \n",
       "17    Towards a genuine capital markets union           \n",
       "18                              What a dream!           \n",
       "19        Four Ideas to Regulate the Internet           \n",
       "20                                                nan   \n",
       "21                                                nan   \n",
       "22                                                nan   \n",
       "23                                                nan   \n",
       "24                                                nan   \n",
       "25                                                nan   \n",
       "26                                                nan   \n",
       "27                                                nan   \n",
       "28                                                nan   \n",
       "29                                                nan   \n",
       "30                                                nan   \n",
       "31                                                nan   \n",
       "32                                                nan   \n",
       "33                                                nan   \n",
       "34                                                nan   \n",
       "35                                                nan   \n",
       "36                                                nan   \n",
       "37                                                nan   \n",
       "38                                                nan   \n",
       "39                                                nan   \n",
       "40                                                nan   \n",
       "41                                                nan   \n",
       "42                                                nan   \n",
       "43                                                nan   \n",
       "44                                                nan   \n",
       "45                                                nan   \n",
       "46                                                nan   \n",
       "47                                                nan   \n",
       "48                                                nan   \n",
       "49                                                nan   \n",
       "50                                                nan   \n",
       "51                                                nan   \n",
       "52                                                nan   \n",
       "53                                                nan   \n",
       "54                                                nan   \n",
       "55                                                nan   \n",
       "56                                                nan   \n",
       "57                                                nan   \n",
       "58                                                nan   \n",
       "\n",
       "                                                  bbc  \\\n",
       "0    Belgian doctors with Covid asked to keep working   \n",
       "1    Belgian doctors with Covid asked to keep working   \n",
       "2        Water on the Moon could sustain a lunar base   \n",
       "3            The Countdown: In an Amy v Hillary world   \n",
       "4             How my mum fell for conspiracy theories   \n",
       "5                Trump on battleground campaign blitz   \n",
       "6         Pakistan's first metro line opens in Lahore   \n",
       "7   Turkey's Erdogan urges boycott of French products   \n",
       "8     Vice-president to miss Trump Supreme Court vote   \n",
       "9   'Russian air strikes kill dozens' in northern ...   \n",
       "10  Toymakers eye strong Christmas sales despite C...   \n",
       "11       Chinese giant eyes record $34bn market debut   \n",
       "12  Toymakers eye strong Christmas sales despite C...   \n",
       "13       Chinese giant eyes record $34bn market debut   \n",
       "14  Militants 'raise more cash than Somali governm...   \n",
       "15  'Grossly disturbing' strip-searches anger Aust...   \n",
       "16   'Living in Meghan's shoes' helped Harry see bias   \n",
       "17             Why the US election matters for the UK   \n",
       "18           A really simple guide to the US election   \n",
       "19  Where Trump and Biden stand on guns, race and ...   \n",
       "20      Who will be the next US president? You decide   \n",
       "21             Why we might have to wait for a result   \n",
       "22   'I went to school and woke up in intensive care'   \n",
       "23                                  BBC World News TV   \n",
       "24                            BBC World Service Radio   \n",
       "25    Dr Fauci: Vaccine result could come by December   \n",
       "26  'Help! Everyone around me disagrees with my po...   \n",
       "27  First US 'murder hornet' nest eradicated with ...   \n",
       "28  Composer with dementia hears piece for first time   \n",
       "29  US pulls plan to give early Covid vaccine to S...   \n",
       "30            How the Czech Covid response went wrong   \n",
       "31       Egypt sex attacks fuel 'feminist revolution'   \n",
       "32    Why Nigerian looters are targeting Covid-19 aid   \n",
       "33     'Dangerous and dirty' used cars sold to Africa   \n",
       "34          'This is our chance to make things right'   \n",
       "35        The explosive problem of 'zombie' batteries   \n",
       "36   US election unites Indian and Pakistani diaspora   \n",
       "37      The man who declared victory over coronavirus   \n",
       "38                  Did we ever 'follow the science'?   \n",
       "39  Aberfan: The mistake that cost a village its c...   \n",
       "40  From the archive: An incredible mission to sep...   \n",
       "41          ‘I hugged the man who murdered my father’   \n",
       "42                 Why food allergies are on the rise   \n",
       "43                    The pandemic’s biggest unknowns   \n",
       "44             A Polynesian custom thwarting Covid-19   \n",
       "45               How The West Wing foreshadowed Obama   \n",
       "46             How much of your body is actually you?   \n",
       "47              The grim fate ‘worse than extinction’   \n",
       "48                      The best way to beat burnout?   \n",
       "49  Premier League: Brighton 1-0 West Brom - Liver...   \n",
       "50  Pogba plans to sue over 'fake' reports of inte...   \n",
       "51  Mercedes boss Wolff has 'no concern' over whet...   \n",
       "52            Beckham Jr out for season with ACL tear   \n",
       "53  India without injured Rohit & Ishant for Austr...   \n",
       "54  Stokes on coping with fame, life in quarantine...   \n",
       "55  England go to 'plan B' for Six Nations finale ...   \n",
       "56                              News daily newsletter   \n",
       "57                                         Mobile app   \n",
       "58                                       Get in touch   \n",
       "\n",
       "                                                  cnn  \\\n",
       "0   Surging Covid-19 cases and a lack of stimulus ...   \n",
       "1   Jack Ma's Ant Group raises $34 billion in worl...   \n",
       "2   China says it will impose sanctions on Boeing ...   \n",
       "3   Want something delivered by Christmas? Order w...   \n",
       "4            Here's how to spot misinformation online   \n",
       "5                   Delta has banned 460 anti-maskers   \n",
       "6    Why Trump's latest conspiracy theory can't stick   \n",
       "7   Trump promised to win the trade war with China...   \n",
       "8               Dunkin' Brands in talks to go private   \n",
       "9   Facebook wants to add cloud games to its platf...   \n",
       "10  Conservatives push to discredit Facebook, Twit...   \n",
       "11  The newspaper that gave Black Britain a megaphone   \n",
       "12  A US government agency just paid a record amou...   \n",
       "13     3 reasons markets could be in for a bumpy week   \n",
       "14  The iPhone 12's ceramic shield screen is tough...   \n",
       "15  Families are bored, so Monopoly sales are soaring   \n",
       "16  Battle for online shoppers begins as Indians s...   \n",
       "17  India offers phone suppliers production incent...   \n",
       "18     Ambani raises $3.4 billion in just a few weeks   \n",
       "19   Harley-Davidson is closing its factory in India    \n",
       "20  Facebook has more users in India than anywhere...   \n",
       "21  A year ago, this coffee company had 750 custom...   \n",
       "22                 Coke is canceling 200 drink brands   \n",
       "23  Japanese craft breweries turn unsold beer into...   \n",
       "24         Guinness is making a non-alcoholic version   \n",
       "25            Cannabis drink has a familiar name: PBR   \n",
       "26   Here's what you need to know about the iPhone 12   \n",
       "27     Could this be the cure to our plastic problem?   \n",
       "28  This material could transform the solar energy...   \n",
       "29  Are drone deliveries the answer for supply cha...   \n",
       "30  BTS has the golden touch. Management hopes tha...   \n",
       "31  South Africa has the world's worst youth unemp...   \n",
       "32  'Coal has no place in Covid-19 recovery plans,...   \n",
       "33  Can a virtual yellow card unblock intra-Africa...   \n",
       "34                                                nan   \n",
       "35                                                nan   \n",
       "36                                                nan   \n",
       "37                                                nan   \n",
       "38                                                nan   \n",
       "39                                                nan   \n",
       "40                                                nan   \n",
       "41                                                nan   \n",
       "42                                                nan   \n",
       "43                                                nan   \n",
       "44                                                nan   \n",
       "45                                                nan   \n",
       "46                                                nan   \n",
       "47                                                nan   \n",
       "48                                                nan   \n",
       "49                                                nan   \n",
       "50                                                nan   \n",
       "51                                                nan   \n",
       "52                                                nan   \n",
       "53                                                nan   \n",
       "54                                                nan   \n",
       "55                                                nan   \n",
       "56                                                nan   \n",
       "57                                                nan   \n",
       "58                                                nan   \n",
       "\n",
       "                                                 cnbc  \\\n",
       "0   Dow falls more than 700 points as average dail...   \n",
       "1   Stock market live updates: Dow slides 800, VIX...   \n",
       "2   Stocks making the biggest moves midday: Hasbro...   \n",
       "3   Record earnings beat is still not good enough ...   \n",
       "4   Coronavirus updates: U.S. hits record average ...   \n",
       "5   Pelosi slams White House over virus testing as...   \n",
       "6   'Fire them all' — GOP governor rips Congress f...   \n",
       "7   Falling enrollment, lost tuition puts colleges...   \n",
       "8   Will there be second $1,200 stimulus checks? W...   \n",
       "9    The experts' guide to planning a trip to Hawaii    \n",
       "10  Scenes from 5 of the best autumn road trips ar...   \n",
       "11  Hotels on demand: Operators are selling 'subsc...   \n",
       "12  Preflight Covid-19 testing is on the rise — th...   \n",
       "13  More than 600 million people traveled in China...   \n",
       "14  How voting rights groups are providing free an...   \n",
       "15  Shaquille O'Neal says Magic Johnson gave him t...   \n",
       "16  Happiness expert: One technique for staying up...   \n",
       "17  How a 32-year-old who makes $39,000 and lives ...   \n",
       "18  How I’ve made thousands of dollars a month in ...   \n",
       "19  Value investor Bill Nygren just exited a high-...   \n",
       "20  Mike Santoli's market notes: Key S&P 500 level...   \n",
       "21  Goldman says these stocks could be winners as ...   \n",
       "22  Cramer says there 'might be an opportunity' in...   \n",
       "23   It 'looks like the clock has run out' on a ne...   \n",
       "24  Urban rewilding: Nature-inspired techniques ar...   \n",
       "25  Walmart has a grand plan to help suppliers clu...   \n",
       "26  Danone hopes it’s blazing a trail by adopting ...   \n",
       "27  Meet the dairy firm hoping to power its delive...   \n",
       "28  Are shoppers the biggest hurdle to corporation...   \n",
       "29  As Chinese investment into Ireland surges, Dub...   \n",
       "30  Ireland presents mega-budget amid Brexit and t...   \n",
       "31  Ireland rejects another full lockdown as growt...   \n",
       "32  Airbnb faces calls for stricter enforcement of...   \n",
       "33  Google abandoning a new Dublin office signals ...   \n",
       "34                                                nan   \n",
       "35                                                nan   \n",
       "36                                                nan   \n",
       "37                                                nan   \n",
       "38                                                nan   \n",
       "39                                                nan   \n",
       "40                                                nan   \n",
       "41                                                nan   \n",
       "42                                                nan   \n",
       "43                                                nan   \n",
       "44                                                nan   \n",
       "45                                                nan   \n",
       "46                                                nan   \n",
       "47                                                nan   \n",
       "48                                                nan   \n",
       "49                                                nan   \n",
       "50                                                nan   \n",
       "51                                                nan   \n",
       "52                                                nan   \n",
       "53                                                nan   \n",
       "54                                                nan   \n",
       "55                                                nan   \n",
       "56                                                nan   \n",
       "57                                                nan   \n",
       "58                                                nan   \n",
       "\n",
       "                                                nyt_w  \\\n",
       "0   A Teacher, His Killer and the Failure of Frenc...   \n",
       "1   China Aims to End Extreme Poverty, but Covid-1...   \n",
       "2   Women on Qatar Airways Flight Strip-Searched, ...   \n",
       "3   Cage Match or P.R. Opportunity? Boris Johnson ...   \n",
       "4   With Vacation Rentals Empty, European Cities S...   \n",
       "5   Treaty to Prohibit Nuclear Weapons Passes Impo...   \n",
       "6   Pope Francis Appoints First African-American C...   \n",
       "7   In South Korea, Draft Resisters Still Go to Pr...   \n",
       "8   As China Clamps Down, Activists Flee Hong Kong...   \n",
       "9   ‘An End to the Chapter of Dictatorship’: Chile...   \n",
       "10  New Airport, Beleaguered Symbol of ‘Irreverent...   \n",
       "11     She Used to Clean City Hall. Now, She Runs It.   \n",
       "12  Indigenous Colombians, Facing New Wave of Brut...   \n",
       "13  Bangkok Is Engulfed by Protests. What’s Drivin...   \n",
       "14                           The Coronavirus Outbreak   \n",
       "15  How Long Can N.Y.C. Museums Survive at 25 Perc...   \n",
       "16  De Blasio Says In-Person Class Attendance Is a...   \n",
       "17  Only 26% of N.Y.C. Students Attend In-Person C...   \n",
       "18                      Colleges Are Slashing Budgets   \n",
       "19          Coronavirus Briefing: What Happened Today   \n",
       "20                          Read The Times in Spanish   \n",
       "21  ‘Nos van a exterminar’: indígenas colombianos ...   \n",
       "22  La ONU a los 75 años, entre la calamidad y el ...   \n",
       "23                             El #MeToo llegó a Irán   \n",
       "24  Dos artistas en quiebra abrieron una panadería...   \n",
       "25  El festival de la nieve de estrellas de Perú p...   \n",
       "26                                         Dispatches   \n",
       "27  2 Broke Artists Started a Bakery at Home. It’s...   \n",
       "28  ‘If There Were No Hashish Here, You Wouldn’t S...   \n",
       "29  ‘Call Me a Dreamer’: A Shattered Beirut Neighb...   \n",
       "30  ‘Keep Calm and Carry On’ May Not Work in a Tim...   \n",
       "31  30 Years After Reunification, Old German-Germa...   \n",
       "32  Gaza Court Convicts Peace Activists for Video ...   \n",
       "33  British Commandos Storm Tanker, Ending Standof...   \n",
       "34  Russian Airstrikes Kill Dozens of Turkish-Back...   \n",
       "35  Arts Bailout in U.K. Buys Time, but No Peace o...   \n",
       "36  Ant Group Set to Raise $34 Billion in World’s ...   \n",
       "37                                  The Trump Economy   \n",
       "38  Witnessing Peru’s Enduring, if Altered, Snow S...   \n",
       "39  How the Virus Slowed the Booming Wind Energy B...   \n",
       "40      Spain, Covid-19, Airbnb: Your Monday Briefing   \n",
       "41  The Fox News president and several anchors wer...   \n",
       "42                                         Site Index   \n",
       "43                        Site Information Navigation   \n",
       "44                                                nan   \n",
       "45                                                nan   \n",
       "46                                                nan   \n",
       "47                                                nan   \n",
       "48                                                nan   \n",
       "49                                                nan   \n",
       "50                                                nan   \n",
       "51                                                nan   \n",
       "52                                                nan   \n",
       "53                                                nan   \n",
       "54                                                nan   \n",
       "55                                                nan   \n",
       "56                                                nan   \n",
       "57                                                nan   \n",
       "58                                                nan   \n",
       "\n",
       "                                                nyt_p  \\\n",
       "0   The Two Americas Financing the Trump and Biden...   \n",
       "1   Infection of Pence Aides Raises New Questions ...   \n",
       "2   Black Senate Candidates in South Tell Democrat...   \n",
       "3   Democrats in Many Races Are Moderates. Republi...   \n",
       "4   Senators Debate Amy Coney Barrett Confirmation...   \n",
       "5   De Blasio Says In-Person Class Attendance Is a...   \n",
       "6                    Should You FedEx Your Ballot? No   \n",
       "7   With Weakness Among Hispanic Voters, Biden Tra...   \n",
       "8   Trump’s Weakened Hold on Long Island Puts 2 G....   \n",
       "9             A New Covid Outbreak at the White House   \n",
       "10  20,000 Ballots an Hour, With Paper and Ink by ...   \n",
       "11  How the Trump Era Has Strained, and Strengthen...   \n",
       "12  Democrats in Many Races Are Moderates. Republi...   \n",
       "13  Questions and Answers About the Bidens and a D...   \n",
       "14                         The On Politics Newsletter   \n",
       "15                                          Follow Us   \n",
       "16                                         Site Index   \n",
       "17                        Site Information Navigation   \n",
       "18                                                nan   \n",
       "19                                                nan   \n",
       "20                                                nan   \n",
       "21                                                nan   \n",
       "22                                                nan   \n",
       "23                                                nan   \n",
       "24                                                nan   \n",
       "25                                                nan   \n",
       "26                                                nan   \n",
       "27                                                nan   \n",
       "28                                                nan   \n",
       "29                                                nan   \n",
       "30                                                nan   \n",
       "31                                                nan   \n",
       "32                                                nan   \n",
       "33                                                nan   \n",
       "34                                                nan   \n",
       "35                                                nan   \n",
       "36                                                nan   \n",
       "37                                                nan   \n",
       "38                                                nan   \n",
       "39                                                nan   \n",
       "40                                                nan   \n",
       "41                                                nan   \n",
       "42                                                nan   \n",
       "43                                                nan   \n",
       "44                                                nan   \n",
       "45                                                nan   \n",
       "46                                                nan   \n",
       "47                                                nan   \n",
       "48                                                nan   \n",
       "49                                                nan   \n",
       "50                                                nan   \n",
       "51                                                nan   \n",
       "52                                                nan   \n",
       "53                                                nan   \n",
       "54                                                nan   \n",
       "55                                                nan   \n",
       "56                                                nan   \n",
       "57                                                nan   \n",
       "58                                                nan   \n",
       "\n",
       "                                                nyt_b  \\\n",
       "0   Ant Group Set to Raise $34 Billion in World’s ...   \n",
       "1     Stocks Slide as Virus Cases Surge: Live Updates   \n",
       "2   How the Virus Slowed the Booming Wind Energy B...   \n",
       "3       All About Ant Group, the Next Big Tech I.P.O.   \n",
       "4   Kazakhstan, Reversing Itself, Embraces ‘Borat’...   \n",
       "5   Japan’s New Leader Sets Ambitious Goal of Carb...   \n",
       "6   Apple, Google and a Deal That Controls the Int...   \n",
       "7   Trump Had One Last Story to Sell. The Wall Str...   \n",
       "8   Kodak Loan Debacle Puts a New Agency in the Ho...   \n",
       "9                       Subscribe to “With Interest.”   \n",
       "10                Sign Up for the DealBook Newsletter   \n",
       "11                  Good Reads From the Business Desk   \n",
       "12  How The Epoch Times Created a Giant Influence ...   \n",
       "13  As Local News Dies, a Pay-for-Play Network Ris...   \n",
       "14  The White Issue: Has Anna Wintour’s Diversity ...   \n",
       "15  The Short Tenure and Abrupt Ouster of Banking’...   \n",
       "16  Apollo Clients Await Inquiry’s Findings on Chi...   \n",
       "17  Dunkin’ Brands has done well in the pandemic. ...   \n",
       "18             Why Dunkin’ is Worth Nearly $9 Billion   \n",
       "19  Women on Qatar Airways Flight Strip-Searched, ...   \n",
       "20  Dunkin’ Brands Is in Talks to Sell Itself and ...   \n",
       "21      The Week in Business: A Headache for Big Tech   \n",
       "22  With Vacation Rentals Empty, European Cities S...   \n",
       "23  Conservative News Sites Fuel Voter Fraud Misin...   \n",
       "24                           Grow a Hydroponic Garden   \n",
       "25  Lee Kun-hee, Who Built Samsung Into a Global G...   \n",
       "26                   Business Delivered to Your Inbox   \n",
       "27                                           DealBook   \n",
       "28                           On Tech With Shira Ovide   \n",
       "29                                      With Interest   \n",
       "30                                         Your Money   \n",
       "31                                          Follow Us   \n",
       "32                                         Site Index   \n",
       "33                        Site Information Navigation   \n",
       "34                                                nan   \n",
       "35                                                nan   \n",
       "36                                                nan   \n",
       "37                                                nan   \n",
       "38                                                nan   \n",
       "39                                                nan   \n",
       "40                                                nan   \n",
       "41                                                nan   \n",
       "42                                                nan   \n",
       "43                                                nan   \n",
       "44                                                nan   \n",
       "45                                                nan   \n",
       "46                                                nan   \n",
       "47                                                nan   \n",
       "48                                                nan   \n",
       "49                                                nan   \n",
       "50                                                nan   \n",
       "51                                                nan   \n",
       "52                                                nan   \n",
       "53                                                nan   \n",
       "54                                                nan   \n",
       "55                                                nan   \n",
       "56                                                nan   \n",
       "57                                                nan   \n",
       "58                                                nan   \n",
       "\n",
       "                                                nyt_t  \\\n",
       "0   Ant Challenged Beijing and Prospered. Now It T...   \n",
       "1       All About Ant Group, the Next Big Tech I.P.O.   \n",
       "2   Schools Clamored for Seesaw’s App. That Was Go...   \n",
       "3               Driverless Cars Go Humble to Get Real   \n",
       "4                                 Personal Technology   \n",
       "5                    How to Take Better Pet Portraits   \n",
       "6   Apple iPhone 12 Review: Superfast Speed, if Yo...   \n",
       "7         How to Deal With a Crisis of Misinformation   \n",
       "8   Google Chromecast Review: A Streaming Device T...   \n",
       "9   Now You Can Use Instagram to Chat With Friends...   \n",
       "10  Ant Group Set to Raise $34 Billion in World’s ...   \n",
       "11  With Vacation Rentals Empty, European Cities S...   \n",
       "12  Apple, Google and a Deal That Controls the Int...   \n",
       "13  How The Epoch Times Created a Giant Influence ...   \n",
       "14                          Everyone Is Gay on TikTok   \n",
       "15  Trump’s Claims About Hunter Biden Send Online ...   \n",
       "16  U.S. Issues Sanctions on Russian Center Involv...   \n",
       "17                          What Went Viral This Week   \n",
       "18  Russians Who Pose Election Threat Have Hacked ...   \n",
       "19  Fox News Is Covering Hunter Biden Claims More ...   \n",
       "20                                          Follow Us   \n",
       "21                                         Site Index   \n",
       "22                        Site Information Navigation   \n",
       "23                                                nan   \n",
       "24                                                nan   \n",
       "25                                                nan   \n",
       "26                                                nan   \n",
       "27                                                nan   \n",
       "28                                                nan   \n",
       "29                                                nan   \n",
       "30                                                nan   \n",
       "31                                                nan   \n",
       "32                                                nan   \n",
       "33                                                nan   \n",
       "34                                                nan   \n",
       "35                                                nan   \n",
       "36                                                nan   \n",
       "37                                                nan   \n",
       "38                                                nan   \n",
       "39                                                nan   \n",
       "40                                                nan   \n",
       "41                                                nan   \n",
       "42                                                nan   \n",
       "43                                                nan   \n",
       "44                                                nan   \n",
       "45                                                nan   \n",
       "46                                                nan   \n",
       "47                                                nan   \n",
       "48                                                nan   \n",
       "49                                                nan   \n",
       "50                                                nan   \n",
       "51                                                nan   \n",
       "52                                                nan   \n",
       "53                                                nan   \n",
       "54                                                nan   \n",
       "55                                                nan   \n",
       "56                                                nan   \n",
       "57                                                nan   \n",
       "58                                                nan   \n",
       "\n",
       "                     Timestamp  \n",
       "0   2020-10-26 18:49:50.424787  \n",
       "1   2020-10-26 18:49:50.424787  \n",
       "2   2020-10-26 18:49:50.424787  \n",
       "3   2020-10-26 18:49:50.424787  \n",
       "4   2020-10-26 18:49:50.424787  \n",
       "5   2020-10-26 18:49:50.424787  \n",
       "6   2020-10-26 18:49:50.424787  \n",
       "7   2020-10-26 18:49:50.424787  \n",
       "8   2020-10-26 18:49:50.424787  \n",
       "9   2020-10-26 18:49:50.424787  \n",
       "10  2020-10-26 18:49:50.424787  \n",
       "11  2020-10-26 18:49:50.424787  \n",
       "12  2020-10-26 18:49:50.424787  \n",
       "13  2020-10-26 18:49:50.424787  \n",
       "14  2020-10-26 18:49:50.424787  \n",
       "15  2020-10-26 18:49:50.424787  \n",
       "16  2020-10-26 18:49:50.424787  \n",
       "17  2020-10-26 18:49:50.424787  \n",
       "18  2020-10-26 18:49:50.424787  \n",
       "19  2020-10-26 18:49:50.424787  \n",
       "20  2020-10-26 18:49:50.424787  \n",
       "21  2020-10-26 18:49:50.424787  \n",
       "22  2020-10-26 18:49:50.424787  \n",
       "23  2020-10-26 18:49:50.424787  \n",
       "24  2020-10-26 18:49:50.424787  \n",
       "25  2020-10-26 18:49:50.424787  \n",
       "26  2020-10-26 18:49:50.424787  \n",
       "27  2020-10-26 18:49:50.424787  \n",
       "28  2020-10-26 18:49:50.424787  \n",
       "29  2020-10-26 18:49:50.424787  \n",
       "30  2020-10-26 18:49:50.424787  \n",
       "31  2020-10-26 18:49:50.424787  \n",
       "32  2020-10-26 18:49:50.424787  \n",
       "33  2020-10-26 18:49:50.424787  \n",
       "34  2020-10-26 18:49:50.424787  \n",
       "35  2020-10-26 18:49:50.424787  \n",
       "36  2020-10-26 18:49:50.424787  \n",
       "37  2020-10-26 18:49:50.424787  \n",
       "38  2020-10-26 18:49:50.424787  \n",
       "39  2020-10-26 18:49:50.424787  \n",
       "40  2020-10-26 18:49:50.424787  \n",
       "41  2020-10-26 18:49:50.424787  \n",
       "42  2020-10-26 18:49:50.424787  \n",
       "43  2020-10-26 18:49:50.424787  \n",
       "44  2020-10-26 18:49:50.424787  \n",
       "45  2020-10-26 18:49:50.424787  \n",
       "46  2020-10-26 18:49:50.424787  \n",
       "47  2020-10-26 18:49:50.424787  \n",
       "48  2020-10-26 18:49:50.424787  \n",
       "49  2020-10-26 18:49:50.424787  \n",
       "50  2020-10-26 18:49:50.424787  \n",
       "51  2020-10-26 18:49:50.424787  \n",
       "52  2020-10-26 18:49:50.424787  \n",
       "53  2020-10-26 18:49:50.424787  \n",
       "54  2020-10-26 18:49:50.424787  \n",
       "55  2020-10-26 18:49:50.424787  \n",
       "56  2020-10-26 18:49:50.424787  \n",
       "57  2020-10-26 18:49:50.424787  \n",
       "58  2020-10-26 18:49:50.424787  "
      ]
     },
     "execution_count": 152,
     "metadata": {},
     "output_type": "execute_result"
    }
   ],
   "source": [
    "Database"
   ]
  },
  {
   "cell_type": "markdown",
   "metadata": {
    "heading_collapsed": true
   },
   "source": [
    "# 2. Sentiment Scores with pysentiment and VADER <a id=\"2\"></a>"
   ]
  },
  {
   "cell_type": "markdown",
   "metadata": {
    "hidden": true
   },
   "source": [
    "Let's have a look at our polarity scores with VADER!"
   ]
  },
  {
   "cell_type": "code",
   "execution_count": 153,
   "metadata": {
    "hidden": true
   },
   "outputs": [
    {
     "name": "stderr",
     "output_type": "stream",
     "text": [
      "[nltk_data] Downloading package vader_lexicon to\n",
      "[nltk_data]     /Users/jonas/nltk_data...\n",
      "[nltk_data]   Package vader_lexicon is already up-to-date!\n"
     ]
    }
   ],
   "source": [
    "nltk.download(\"vader_lexicon\")\n",
    "\n",
    "def get_score(row):\n",
    "    sid=SIA()\n",
    "    score=sid.polarity_scores(row)\n",
    "    return score[\"compound\"]"
   ]
  },
  {
   "cell_type": "code",
   "execution_count": 154,
   "metadata": {
    "hidden": true
   },
   "outputs": [],
   "source": [
    "df_bild_score = df_bild[\"bild\"].apply(get_score)\n",
    "df_bild_final = pd.concat([df_bild, df_bild_score ], axis=1, sort=False).rename(columns={\"bild\": \"bild\", \"bild\": \"score\"}, errors=\"raise\")"
   ]
  },
  {
   "cell_type": "code",
   "execution_count": 155,
   "metadata": {
    "hidden": true
   },
   "outputs": [
    {
     "data": {
      "text/html": [
       "<div>\n",
       "<style scoped>\n",
       "    .dataframe tbody tr th:only-of-type {\n",
       "        vertical-align: middle;\n",
       "    }\n",
       "\n",
       "    .dataframe tbody tr th {\n",
       "        vertical-align: top;\n",
       "    }\n",
       "\n",
       "    .dataframe thead th {\n",
       "        text-align: right;\n",
       "    }\n",
       "</style>\n",
       "<table border=\"1\" class=\"dataframe\">\n",
       "  <thead>\n",
       "    <tr style=\"text-align: right;\">\n",
       "      <th></th>\n",
       "      <th>score</th>\n",
       "      <th>score</th>\n",
       "    </tr>\n",
       "  </thead>\n",
       "  <tbody>\n",
       "    <tr>\n",
       "      <th>0</th>\n",
       "      <td>Bill Gates on conspiracy theories</td>\n",
       "      <td>-0.5267</td>\n",
       "    </tr>\n",
       "    <tr>\n",
       "      <th>1</th>\n",
       "      <td>“Run! The planes are bombing again!”</td>\n",
       "      <td>0.0000</td>\n",
       "    </tr>\n",
       "    <tr>\n",
       "      <th>2</th>\n",
       "      <td>Church bombed to ruins</td>\n",
       "      <td>-0.4404</td>\n",
       "    </tr>\n",
       "    <tr>\n",
       "      <th>3</th>\n",
       "      <td>„The city looks like German cities during the ...</td>\n",
       "      <td>0.3612</td>\n",
       "    </tr>\n",
       "    <tr>\n",
       "      <th>4</th>\n",
       "      <td>Navalny: Sanction Putin's closest circle</td>\n",
       "      <td>0.0000</td>\n",
       "    </tr>\n",
       "    <tr>\n",
       "      <th>5</th>\n",
       "      <td>China is celebrating, the world is suffering</td>\n",
       "      <td>0.1531</td>\n",
       "    </tr>\n",
       "    <tr>\n",
       "      <th>6</th>\n",
       "      <td>Why the US is withdrawing from the Open Skies ...</td>\n",
       "      <td>0.0000</td>\n",
       "    </tr>\n",
       "    <tr>\n",
       "      <th>7</th>\n",
       "      <td>The Thai king’s secret torture prison</td>\n",
       "      <td>-0.8020</td>\n",
       "    </tr>\n",
       "    <tr>\n",
       "      <th>8</th>\n",
       "      <td>„You are endangering the world“</td>\n",
       "      <td>0.0000</td>\n",
       "    </tr>\n",
       "    <tr>\n",
       "      <th>9</th>\n",
       "      <td>„There will be a time for assigning blame“</td>\n",
       "      <td>0.0000</td>\n",
       "    </tr>\n",
       "  </tbody>\n",
       "</table>\n",
       "</div>"
      ],
      "text/plain": [
       "                                               score   score\n",
       "0                  Bill Gates on conspiracy theories -0.5267\n",
       "1               “Run! The planes are bombing again!”  0.0000\n",
       "2                             Church bombed to ruins -0.4404\n",
       "3  „The city looks like German cities during the ...  0.3612\n",
       "4          Navalny: Sanction Putin's closest circle   0.0000\n",
       "5       China is celebrating, the world is suffering  0.1531\n",
       "6  Why the US is withdrawing from the Open Skies ...  0.0000\n",
       "7              The Thai king’s secret torture prison -0.8020\n",
       "8                    „You are endangering the world“  0.0000\n",
       "9         „There will be a time for assigning blame“  0.0000"
      ]
     },
     "execution_count": 155,
     "metadata": {},
     "output_type": "execute_result"
    }
   ],
   "source": [
    "df_bild_final.head(10)"
   ]
  },
  {
   "cell_type": "markdown",
   "metadata": {
    "hidden": true
   },
   "source": [
    "Not surprising, that **torture**, **bombed to ruins** and **conspiracy theories** don't have the most positive connotation. "
   ]
  },
  {
   "cell_type": "code",
   "execution_count": 156,
   "metadata": {
    "hidden": true
   },
   "outputs": [
    {
     "data": {
      "text/plain": [
       "score   -0.165825\n",
       "dtype: float64"
      ]
     },
     "execution_count": 156,
     "metadata": {},
     "output_type": "execute_result"
    }
   ],
   "source": [
    "daily_bild = df_bild_final[\"score\"].mean()\n",
    "daily_bild"
   ]
  },
  {
   "cell_type": "code",
   "execution_count": 157,
   "metadata": {
    "hidden": true
   },
   "outputs": [
    {
     "data": {
      "text/plain": [
       "-0.165825"
      ]
     },
     "execution_count": 157,
     "metadata": {},
     "output_type": "execute_result"
    }
   ],
   "source": [
    "#To wrap it up:\n",
    "bild_score = df_bild[\"bild\"].apply(get_score)\n",
    "daily_bild = bild_score.mean()\n",
    "daily_bild"
   ]
  },
  {
   "cell_type": "code",
   "execution_count": 158,
   "metadata": {
    "hidden": true
   },
   "outputs": [],
   "source": [
    "#Now for all:\n",
    "#Bild\n",
    "bild_score = df_bild[\"bild\"].apply(get_score)\n",
    "daily_bild = bild_score.mean()\n",
    "#Zeit\n",
    "zeit_score = df_zeit[\"zeit\"].apply(get_score)\n",
    "daily_zeit = zeit_score.mean()\n",
    "#FAZ\n",
    "faz_score = df_faz[\"faz\"].apply(get_score)\n",
    "daily_faz = faz_score.mean()\n",
    "#BBC\n",
    "bbc_score = df_bbc[\"bbc\"].apply(get_score)\n",
    "daily_bbc = bbc_score.mean()\n",
    "#CNN\n",
    "cnn_score = df_cnn[\"cnn\"].apply(get_score)\n",
    "daily_cnn = cnn_score.mean()\n",
    "#CNBC\n",
    "cnbc_score = df_cnbc[\"cnbc\"].apply(get_score)\n",
    "daily_cnbc = cnbc_score.mean()\n",
    "#NYT World\n",
    "nyt_w_score = df_nyt_w[\"nyt_w\"].apply(get_score)\n",
    "daily_nyt_w = nyt_w_score.mean()\n",
    "#NYT Politics\n",
    "nyt_p_score = df_nyt_p[\"nyt_p\"].apply(get_score)\n",
    "daily_nyt_p = nyt_p_score.mean()\n",
    "#NYT Business\n",
    "nyt_b_score = df_nyt_b[\"nyt_b\"].apply(get_score)\n",
    "daily_nyt_b = nyt_b_score.mean()\n",
    "#NYT Tech\n",
    "nyt_t_score = df_nyt_t[\"nyt_t\"].apply(get_score)\n",
    "daily_nyt_t = nyt_t_score.mean()"
   ]
  },
  {
   "cell_type": "markdown",
   "metadata": {
    "hidden": true
   },
   "source": [
    "Let's put this together!"
   ]
  },
  {
   "cell_type": "code",
   "execution_count": 159,
   "metadata": {
    "hidden": true
   },
   "outputs": [],
   "source": [
    "ds = {'daily_bild':daily_bild , 'daily_zeit':daily_zeit, 'daily_faz':daily_faz, 'daily_bbc':daily_bbc, 'daily_cnn':daily_cnn, 'daily_cnbc':daily_cnbc, 'daily_nyt_w':daily_nyt_w, 'daily_nyt_p':daily_nyt_p, 'daily_nyt_b':daily_nyt_b, 'daily_nyt_t':daily_nyt_t}"
   ]
  },
  {
   "cell_type": "code",
   "execution_count": 160,
   "metadata": {
    "hidden": true
   },
   "outputs": [
    {
     "data": {
      "text/plain": [
       "'10/26/2020'"
      ]
     },
     "execution_count": 160,
     "metadata": {},
     "output_type": "execute_result"
    }
   ],
   "source": [
    "n = pd.to_datetime('today').strftime(\"%m/%d/%Y\")\n",
    "n"
   ]
  },
  {
   "cell_type": "markdown",
   "metadata": {
    "hidden": true
   },
   "source": [
    "##### Lets add a Timestamp so we can use the Headlines as Timeseries"
   ]
  },
  {
   "cell_type": "code",
   "execution_count": 161,
   "metadata": {
    "hidden": true
   },
   "outputs": [],
   "source": [
    "ds['Timestamp']= n"
   ]
  },
  {
   "cell_type": "code",
   "execution_count": 162,
   "metadata": {
    "hidden": true
   },
   "outputs": [],
   "source": [
    "daily_sentiment = pd.DataFrame(data=ds, index=[0])"
   ]
  },
  {
   "cell_type": "code",
   "execution_count": 163,
   "metadata": {
    "hidden": true,
    "scrolled": true
   },
   "outputs": [
    {
     "data": {
      "text/html": [
       "<div>\n",
       "<style scoped>\n",
       "    .dataframe tbody tr th:only-of-type {\n",
       "        vertical-align: middle;\n",
       "    }\n",
       "\n",
       "    .dataframe tbody tr th {\n",
       "        vertical-align: top;\n",
       "    }\n",
       "\n",
       "    .dataframe thead th {\n",
       "        text-align: right;\n",
       "    }\n",
       "</style>\n",
       "<table border=\"1\" class=\"dataframe\">\n",
       "  <thead>\n",
       "    <tr style=\"text-align: right;\">\n",
       "      <th></th>\n",
       "      <th>daily_bild</th>\n",
       "      <th>daily_zeit</th>\n",
       "      <th>daily_faz</th>\n",
       "      <th>daily_bbc</th>\n",
       "      <th>daily_cnn</th>\n",
       "      <th>daily_cnbc</th>\n",
       "      <th>daily_nyt_w</th>\n",
       "      <th>daily_nyt_p</th>\n",
       "      <th>daily_nyt_b</th>\n",
       "      <th>daily_nyt_t</th>\n",
       "    </tr>\n",
       "    <tr>\n",
       "      <th>Timestamp</th>\n",
       "      <th></th>\n",
       "      <th></th>\n",
       "      <th></th>\n",
       "      <th></th>\n",
       "      <th></th>\n",
       "      <th></th>\n",
       "      <th></th>\n",
       "      <th></th>\n",
       "      <th></th>\n",
       "      <th></th>\n",
       "    </tr>\n",
       "  </thead>\n",
       "  <tbody>\n",
       "    <tr>\n",
       "      <th>10/26/2020</th>\n",
       "      <td>-0.165825</td>\n",
       "      <td>-0.111345</td>\n",
       "      <td>0.03131</td>\n",
       "      <td>-0.071995</td>\n",
       "      <td>-0.112479</td>\n",
       "      <td>0.093738</td>\n",
       "      <td>-0.051616</td>\n",
       "      <td>-0.067689</td>\n",
       "      <td>0.052671</td>\n",
       "      <td>-0.003226</td>\n",
       "    </tr>\n",
       "  </tbody>\n",
       "</table>\n",
       "</div>"
      ],
      "text/plain": [
       "            daily_bild  daily_zeit  daily_faz  daily_bbc  daily_cnn  \\\n",
       "Timestamp                                                             \n",
       "10/26/2020   -0.165825   -0.111345    0.03131  -0.071995  -0.112479   \n",
       "\n",
       "            daily_cnbc  daily_nyt_w  daily_nyt_p  daily_nyt_b  daily_nyt_t  \n",
       "Timestamp                                                                   \n",
       "10/26/2020    0.093738    -0.051616    -0.067689     0.052671    -0.003226  "
      ]
     },
     "execution_count": 163,
     "metadata": {},
     "output_type": "execute_result"
    }
   ],
   "source": [
    "daily_sentiment.set_index('Timestamp')"
   ]
  },
  {
   "cell_type": "markdown",
   "metadata": {
    "heading_collapsed": true
   },
   "source": [
    "# 3. Upload on our MySQL Database <a id=\"3\"></a>"
   ]
  },
  {
   "cell_type": "code",
   "execution_count": 93,
   "metadata": {
    "hidden": true
   },
   "outputs": [],
   "source": [
    "############### CONFIGURE THIS ###################\n",
    "# Open database connection\n",
    "\n",
    "# Credentials to database connection\n",
    "user = 'sql7372795'\n",
    "passw = 'inserthere'\n",
    "host =  'sql7.freemysqlhosting.net'\n",
    "database = 'sql7372795'\n",
    "\n",
    "\n",
    "# Create SQLAlchemy engine to connect to MySQL Database\n",
    "engine = create_engine(\"mysql+pymysql://{user}:{pw}@{host}/{db}\".format(host=host, db=database, user=user, pw=passw))"
   ]
  },
  {
   "cell_type": "code",
   "execution_count": 94,
   "metadata": {
    "hidden": true
   },
   "outputs": [],
   "source": [
    "daily_sentiment.columns = daily_sentiment.columns.astype(str)"
   ]
  },
  {
   "cell_type": "code",
   "execution_count": 95,
   "metadata": {
    "hidden": true
   },
   "outputs": [],
   "source": [
    "daily_sentiment.to_sql('sentiment', engine, if_exists = 'append', index=False)"
   ]
  },
  {
   "cell_type": "markdown",
   "metadata": {
    "hidden": true
   },
   "source": [
    "Now we could schedule daily parsing and uploads!"
   ]
  },
  {
   "cell_type": "markdown",
   "metadata": {
    "heading_collapsed": true
   },
   "source": [
    "# 4. Adjustments on the pre-trained BERT model <a id=\"4\"></a>"
   ]
  },
  {
   "cell_type": "markdown",
   "metadata": {
    "hidden": true
   },
   "source": [
    "Next: Use of pre-trained BERT model and adjustments for the financial nomenclature"
   ]
  },
  {
   "cell_type": "markdown",
   "metadata": {
    "heading_collapsed": true
   },
   "source": [
    "# 5. Final FinBERT Model <a id=\"5\"></a>"
   ]
  },
  {
   "cell_type": "markdown",
   "metadata": {
    "heading_collapsed": true
   },
   "source": [
    "# 6. Upload on our MySQL Database <a id=\"6\"></a>"
   ]
  },
  {
   "cell_type": "code",
   "execution_count": 93,
   "metadata": {
    "code_folding": [
     0
    ],
    "hidden": true
   },
   "outputs": [],
   "source": [
    "############### CONFIGURE THIS ###################\n",
    "# Open database connection\n",
    "\n",
    "# Credentials to database connection\n",
    "user = 'sql7372795'\n",
    "passw = 'inserthere'\n",
    "host =  'sql7.freemysqlhosting.net'\n",
    "database = 'sql7372795'\n",
    "\n",
    "\n",
    "# Create SQLAlchemy engine to connect to MySQL Database\n",
    "engine = create_engine(\"mysql+pymysql://{user}:{pw}@{host}/{db}\".format(host=host, db=database, user=user, pw=passw))"
   ]
  },
  {
   "cell_type": "code",
   "execution_count": 94,
   "metadata": {
    "hidden": true
   },
   "outputs": [],
   "source": [
    "Database.columns = Database.columns.astype(str)"
   ]
  },
  {
   "cell_type": "code",
   "execution_count": 95,
   "metadata": {
    "hidden": true
   },
   "outputs": [],
   "source": [
    "Database.to_sql('database', engine, if_exists = 'append', index=False)"
   ]
  },
  {
   "cell_type": "markdown",
   "metadata": {
    "slideshow": {
     "slide_type": "slide"
    }
   },
   "source": [
    "# Thank you for completing this Notebook!"
   ]
  },
  {
   "cell_type": "markdown",
   "metadata": {},
   "source": [
    "<hr>\n",
    "<h5>\n",
    "<p> <center>  <font color='gray'> Jupyter Notebook by </font> Jonas Gottal </center></p>\n",
    "</h5>"
   ]
  }
 ],
 "metadata": {
  "kernelspec": {
   "display_name": "Python 3",
   "language": "python",
   "name": "python3"
  },
  "language_info": {
   "codemirror_mode": {
    "name": "ipython",
    "version": 3
   },
   "file_extension": ".py",
   "mimetype": "text/x-python",
   "name": "python",
   "nbconvert_exporter": "python",
   "pygments_lexer": "ipython3",
   "version": "3.8.3"
  }
 },
 "nbformat": 4,
 "nbformat_minor": 4
}
