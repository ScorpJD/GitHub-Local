{
 "cells": [
  {
   "cell_type": "markdown",
   "metadata": {},
   "source": [
    "<a ><img src=\"Pictures/trashpanda.png\"  width=\"70\" align=\"left\"> </a>\n",
    "<div style=\"text-align: right\"> <h3><span style=\"color:gray\"> DRAFT </span> </h3> </div>\n",
    "\n",
    "<br>\n",
    "<br>\n",
    "<br>\n",
    "\n",
    "<a ><img src=\"Pictures/Icon.png\" Width=\"250\" align=\"center\"> </a>\n",
    "\n",
    "<br>\n",
    "<br>\n",
    "\n",
    "\n",
    "\n",
    "<h1><center>Sentiment Analysis</center></h1>\n",
    "<h2><center> <span style=\"font-weight:normal\"><font color='#022F73'> \n",
    "Natural language processing (NLP): <br> Analysis of Headlines with VADER and pysentiment </font>  </span></center></h2>\n",
    "\n",
    "\n",
    "<h3><center><font color='gray'>JONAS GOTTAL</font></center></h3>"
   ]
  },
  {
   "cell_type": "markdown",
   "metadata": {},
   "source": [
    "<h4>About this Notebook</h4>\n",
    "We will conduct a sentiment Analysis with VADER  <br> \n",
    "(Valence Aware Dictionary for Sentiment Reasoning) and FinBERT, a pre-trained Model,<br>  \n",
    "on headlines of several different news outlets with impact on german financial markets <br> \n",
    "and generate for each a dedicated sentiment KPI per trading day. In the end we will have <br> a sound time series  and - hopefully - some predictive results.\n",
    "<br>\n",
    "<br>\n"
   ]
  },
  {
   "cell_type": "markdown",
   "metadata": {
    "id": "kI5wU5naxzsa",
    "slideshow": {
     "slide_type": "slide"
    }
   },
   "source": [
    "<h1>Table of contents</h1>\n",
    "\n",
    "<div class=\"alert alert-block alert-info\" style=\"text-decoration:none; margin-top: 30px; background-color:#F2F2F2; border-color:#022F73\">\n",
    "    <span style=\"color:#022F73\">\n",
    "    <ol>\n",
    "      <li><a href=\"#1\"> <span style=\"color:#022F73;text-decoration:underline;text-decoration-color:#F2F2F2\" \n",
    "       >Motivation  </span> </a></li>\n",
    "      <li><a href=\"#2\"> <span style=\"color:#022F73;text-decoration:underline;text-decoration-color:#F2F2F2\" \n",
    "       >Approach  </span> </a></li>\n",
    "      <li><a href=\"#3\"> <span style=\"color:#022F73;text-decoration:underline;text-decoration-color:#F2F2F2\" \n",
    "       >Sentiment Scores with VADER and pysentiment</span> </a></li>\n",
    "      <li><a href=\"#4\"> <span style=\"color:#022F73;text-decoration:underline;text-decoration-color:#F2F2F2\" \n",
    "       >Upload on our MySQL Database</span> </a></li>\n",
    "      <li><a href=\"#5\"> <span style=\"color:#022F73;text-decoration:underline;text-decoration-color:#F2F2F2\" \n",
    "       >Schedule daily runs as .py script</span> </a></li>\n",
    "      <li><a href=\"#6\"> <span style=\"color:#022F73;text-decoration:underline;text-decoration-color:#F2F2F2\" \n",
    "       >Upcoming Analysis of our unique dataset</span> </a></li>\n",
    "      <li><a href=\"#7\"> <span style=\"color:#022F73;text-decoration:underline;text-decoration-color:#F2F2F2\" \n",
    "       >Outlook</span> </a></li>\n",
    "    </ol>\n",
    "    </span>\n",
    "</div>"
   ]
  },
  {
   "cell_type": "code",
   "execution_count": 1,
   "metadata": {
    "code_folding": [
     0
    ]
   },
   "outputs": [],
   "source": [
    "#!pip install html5lib\n",
    "#!pip install ipython-sql\n",
    "#!pip install nltk\n",
    "#! pip install pysentiment2\n",
    "\n",
    "import requests\n",
    "from   bs4 import BeautifulSoup\n",
    "import html5lib\n",
    "import time\n",
    "import numpy as np\n",
    "import pandas as pd\n",
    "import matplotlib as mp\n",
    "import matplotlib.pyplot as plt\n",
    "import dtale\n",
    "import sqlalchemy\n",
    "from sqlalchemy import create_engine\n",
    "import pymysql\n",
    "pymysql.install_as_MySQLdb()\n",
    "import pysentiment2 as ps\n",
    "import nltk\n",
    "import re\n",
    "from collections import Counter\n",
    "from nltk.sentiment.vader import SentimentIntensityAnalyzer as SIA\n",
    "import seaborn as sns"
   ]
  },
  {
   "cell_type": "markdown",
   "metadata": {
    "heading_collapsed": true
   },
   "source": [
    "# 1. Motivation <a id=\"1\"></a>"
   ]
  },
  {
   "cell_type": "markdown",
   "metadata": {
    "hidden": true
   },
   "source": [
    "\n",
    "> <i> \"There are three ways to make a living in this business: be first, be smarter, or cheat. Well, I don't cheat. And although I like to think we have some pretty smart people here in this room, it sure is a hell of lot easier to just be first.\" </i> **- Margin Call** \n",
    "\n",
    "But to be the first to use market data, you would need to be in an optimal physical location (depending on the stock exchanges) and you have to have the fastest connection. Neither of those is true for me and many others. So to be successful - in this analogy of margin call - you would have to design/manipulate a unique set of data - and therefore be first again."
   ]
  },
  {
   "cell_type": "markdown",
   "metadata": {
    "hidden": true
   },
   "source": [
    "## Revision of our news scraping approach (see other notebook before)"
   ]
  },
  {
   "cell_type": "markdown",
   "metadata": {
    "hidden": true
   },
   "source": [
    "#### Documentation: https://requests.readthedocs.io/en/master/user/advanced\n",
    "```j\n",
    "content = requests.get(url = url, headers = {'Accept': 'text/html'}, timeout=(3, 27))\n",
    "`````\n"
   ]
  },
  {
   "cell_type": "markdown",
   "metadata": {
    "hidden": true
   },
   "source": [
    "### A. Bild"
   ]
  },
  {
   "cell_type": "code",
   "execution_count": 2,
   "metadata": {
    "hidden": true
   },
   "outputs": [
    {
     "data": {
      "text/plain": [
       "200"
      ]
     },
     "execution_count": 2,
     "metadata": {},
     "output_type": "execute_result"
    }
   ],
   "source": [
    "url = \"https://www.bild.de/politik/international/bild-international/home-44225950.bild.html\"\n",
    "\n",
    "content = requests.get(url = url, headers = {'Accept': 'text/html'}, timeout=(3, 27))\n",
    "\n",
    "content.status_code"
   ]
  },
  {
   "cell_type": "code",
   "execution_count": 3,
   "metadata": {
    "hidden": true,
    "scrolled": true
   },
   "outputs": [
    {
     "name": "stdout",
     "output_type": "stream",
     "text": [
      "12                                                 bild\n",
      "0                  Bill Gates on conspiracy theories\n",
      "1               “Run! The planes are bombing again!”\n",
      "2                             Church bombed to ruins\n",
      "3  „The city looks like German cities during the ...\n",
      "4          Navalny: Sanction Putin's closest circle \n"
     ]
    }
   ],
   "source": [
    "bild = BeautifulSoup(content.content, 'html.parser')\n",
    "\n",
    "headlines = bild.find_all(attrs={'class':'headline'})\n",
    "\n",
    "df_bild = pd.DataFrame([i.text for i in headlines], columns=[\"bild\"])\n",
    "print (df_bild.size, df_bild.head())"
   ]
  },
  {
   "cell_type": "markdown",
   "metadata": {
    "hidden": true
   },
   "source": [
    "### B. Spiegel"
   ]
  },
  {
   "cell_type": "code",
   "execution_count": 4,
   "metadata": {
    "hidden": true
   },
   "outputs": [
    {
     "data": {
      "text/plain": [
       "200"
      ]
     },
     "execution_count": 4,
     "metadata": {},
     "output_type": "execute_result"
    }
   ],
   "source": [
    "url = \"https://www.spiegel.de/international/\"\n",
    "\n",
    "content = requests.get(url = url, headers = {'Accept': 'text/html'}, timeout=(3, 27))\n",
    "\n",
    "content.status_code"
   ]
  },
  {
   "cell_type": "code",
   "execution_count": 5,
   "metadata": {
    "hidden": true,
    "scrolled": false
   },
   "outputs": [
    {
     "name": "stdout",
     "output_type": "stream",
     "text": [
      "27                                              spiegel\n",
      "0               A Country Slides Toward Dictatorship\n",
      "1                      “How Can You Not Be Worried?”\n",
      "2  EU Border Agency Frontex Complicit in Greek Re...\n",
      "3             If That's the Future, then Good Night!\n",
      "4             \"There Will Be Unrest, Dead Civilians\"\n"
     ]
    }
   ],
   "source": [
    "spiegel = BeautifulSoup(content.content, 'html.parser')\n",
    "\n",
    "headlines = spiegel.find_all(attrs={'class':'align-middle'})\n",
    "\n",
    "df_spiegel = pd.DataFrame([i.text for i in headlines], columns=[\"spiegel\"])\n",
    "print (df_spiegel.size, df_spiegel.head())"
   ]
  },
  {
   "cell_type": "markdown",
   "metadata": {
    "hidden": true
   },
   "source": [
    "### C. Zeit"
   ]
  },
  {
   "cell_type": "code",
   "execution_count": 6,
   "metadata": {
    "hidden": true
   },
   "outputs": [
    {
     "data": {
      "text/plain": [
       "200"
      ]
     },
     "execution_count": 6,
     "metadata": {},
     "output_type": "execute_result"
    }
   ],
   "source": [
    "url = \"https://www.zeit.de/english/index\"\n",
    "\n",
    "content = requests.get(url = url, headers = {'Accept': 'text/html'}, timeout=(3, 27))\n",
    "\n",
    "content.status_code"
   ]
  },
  {
   "cell_type": "code",
   "execution_count": 7,
   "metadata": {
    "hidden": true,
    "scrolled": false
   },
   "outputs": [
    {
     "name": "stdout",
     "output_type": "stream",
     "text": [
      "20                                                 zeit\n",
      "0        All of Europe is talking about the pandemic\n",
      "1                                   \"It's Up To Us\" \n",
      "2          \"A President who is incapable of the job\"\n",
      "3  \"Food Becomes Increasingly Important the More ...\n",
      "4                  Exorcism in Lieu of Enlightenment\n"
     ]
    }
   ],
   "source": [
    "zeit = BeautifulSoup(content.content, 'html.parser')\n",
    "\n",
    "headlines = zeit.find_all(attrs={'class':'zon-teaser-standard__title'})\n",
    "\n",
    "df_zeit = pd.DataFrame([i.text for i in headlines], columns=[\"zeit\"])\n",
    "print (df_zeit.size, df_zeit.head())"
   ]
  },
  {
   "cell_type": "markdown",
   "metadata": {
    "hidden": true
   },
   "source": [
    "### D. FAZ"
   ]
  },
  {
   "cell_type": "code",
   "execution_count": 8,
   "metadata": {
    "hidden": true
   },
   "outputs": [
    {
     "data": {
      "text/plain": [
       "200"
      ]
     },
     "execution_count": 8,
     "metadata": {},
     "output_type": "execute_result"
    }
   ],
   "source": [
    "url = \"https://www.faz.net/english/\"\n",
    "\n",
    "content = requests.get(url = url, headers = {'Accept': 'text/html'}, timeout=(3, 27))\n",
    "\n",
    "content.status_code"
   ]
  },
  {
   "cell_type": "code",
   "execution_count": 9,
   "metadata": {
    "hidden": true,
    "scrolled": true
   },
   "outputs": [
    {
     "name": "stdout",
     "output_type": "stream",
     "text": [
      "20                                                  faz\n",
      "0  „We have to fight misinformation because peopl...\n",
      "1                  Do not ruin the Internet!        \n",
      "2                              The Black Axe        \n",
      "3  Time for a German-British Friendship Treaty   ...\n",
      "4                 The Girl With The Red Coat        \n"
     ]
    }
   ],
   "source": [
    "faz = BeautifulSoup(content.content, 'html.parser')\n",
    "\n",
    "headlines = faz.find_all(attrs={'class':'tsr-Base_HeadlineText'})\n",
    "\n",
    "df_faz = pd.DataFrame([i.text for i in headlines], columns=[\"faz\"]).replace(\"\\n\", \"\", regex=True).replace(\"\\t\", \"\", regex=True)\n",
    "print (df_faz.size, df_faz.head())"
   ]
  },
  {
   "cell_type": "markdown",
   "metadata": {
    "hidden": true
   },
   "source": [
    "### E. BBC"
   ]
  },
  {
   "cell_type": "code",
   "execution_count": 10,
   "metadata": {
    "hidden": true
   },
   "outputs": [
    {
     "data": {
      "text/plain": [
       "200"
      ]
     },
     "execution_count": 10,
     "metadata": {},
     "output_type": "execute_result"
    }
   ],
   "source": [
    "url = \"https://www.bbc.com/news\"\n",
    "\n",
    "content = requests.get(url = url, headers = {'Accept': 'text/html'}, timeout=(3, 27))\n",
    "\n",
    "content.status_code"
   ]
  },
  {
   "cell_type": "code",
   "execution_count": 11,
   "metadata": {
    "hidden": true,
    "scrolled": true
   },
   "outputs": [
    {
     "name": "stdout",
     "output_type": "stream",
     "text": [
      "59                                                  bbc\n",
      "0   Lockdowns return as Europe confronts second wave\n",
      "1   Lockdowns return as Europe confronts second wave\n",
      "2  Nearly 100,000 catching virus every day in Eng...\n",
      "3  Trump slams lockdowns, Biden accuses him of in...\n",
      "4   Al-Qaeda still 'heavily embedded' within Taliban\n"
     ]
    }
   ],
   "source": [
    "bbc = BeautifulSoup(content.content, 'html.parser')\n",
    "\n",
    "headlines = bbc.find_all('h3')\n",
    "\n",
    "df_bbc = pd.DataFrame([i.text for i in headlines], columns=[\"bbc\"])\n",
    "print (df_bbc.size, df_bbc.head())"
   ]
  },
  {
   "cell_type": "markdown",
   "metadata": {
    "hidden": true
   },
   "source": [
    "### F. CNN"
   ]
  },
  {
   "cell_type": "code",
   "execution_count": 12,
   "metadata": {
    "hidden": true
   },
   "outputs": [
    {
     "data": {
      "text/plain": [
       "200"
      ]
     },
     "execution_count": 12,
     "metadata": {},
     "output_type": "execute_result"
    }
   ],
   "source": [
    "url = \"https://www.cnn.com/business\"\n",
    "\n",
    "content = requests.get(url = url, headers = {'Accept': 'text/html'}, timeout=(3, 27))\n",
    "\n",
    "content.status_code"
   ]
  },
  {
   "cell_type": "code",
   "execution_count": 13,
   "metadata": {
    "hidden": true,
    "scrolled": true
   },
   "outputs": [
    {
     "name": "stdout",
     "output_type": "stream",
     "text": [
      "32                                                  cnn\n",
      "0  Samsung reports bumper profits but warns of sl...\n",
      "1  Ford returns to profitability as it blows past...\n",
      "2  US stocks sold off sharply, with the Dow tumbl...\n",
      "3  Wall Street is spooked, but should have seen t...\n",
      "4  A deep recession should hurt Trump's reelectio...\n"
     ]
    }
   ],
   "source": [
    "cnn = BeautifulSoup(content.content, 'html.parser')\n",
    "\n",
    "headlines = cnn.find_all(attrs={'class': 'cd__headline'})\n",
    "\n",
    "df_cnn = pd.DataFrame([i.text for i in headlines], columns=[\"cnn\"])\n",
    "print (df_cnn.size, df_cnn.head())"
   ]
  },
  {
   "cell_type": "markdown",
   "metadata": {
    "hidden": true
   },
   "source": [
    "### G. CNBC"
   ]
  },
  {
   "cell_type": "code",
   "execution_count": 14,
   "metadata": {
    "hidden": true
   },
   "outputs": [
    {
     "data": {
      "text/plain": [
       "200"
      ]
     },
     "execution_count": 14,
     "metadata": {},
     "output_type": "execute_result"
    }
   ],
   "source": [
    "url = \"https://www.cnbc.com\"\n",
    "\n",
    "content = requests.get(url = url, headers = {'Accept': 'text/html'}, timeout=(3, 27))\n",
    "\n",
    "content.status_code"
   ]
  },
  {
   "cell_type": "code",
   "execution_count": 15,
   "metadata": {
    "hidden": true,
    "scrolled": false
   },
   "outputs": [
    {
     "name": "stdout",
     "output_type": "stream",
     "text": [
      "34                                                 cnbc\n",
      "0  Stocks making the biggest moves after hours: P...\n",
      "1  Stocks are hit hard by virus, election, and th...\n",
      "2  Dow sinks more than 900 points for its worst d...\n",
      "3  Stock market live Wednesday: Stocks close near...\n",
      "4  Coronavirus updates: U.S. records more than 80...\n"
     ]
    }
   ],
   "source": [
    "cnbc = BeautifulSoup(content.content, 'html.parser')\n",
    "\n",
    "headlines = cnbc.find_all(attrs={'class':'Card-title'})\n",
    "\n",
    "df_cnbc = pd.DataFrame([i.text for i in headlines], columns=[\"cnbc\"])\n",
    "print (df_cnbc.size, df_cnbc.head())"
   ]
  },
  {
   "cell_type": "markdown",
   "metadata": {
    "hidden": true
   },
   "source": [
    "### H. New York Times"
   ]
  },
  {
   "cell_type": "markdown",
   "metadata": {
    "hidden": true
   },
   "source": [
    "Due to its sound reputation we will also use the sub sections and not only the main site."
   ]
  },
  {
   "cell_type": "markdown",
   "metadata": {
    "hidden": true
   },
   "source": [
    "For us relevant: \n",
    "- World https://www.nytimes.com/section/world\n",
    "- Politics https://www.nytimes.com/section/politics\n",
    "- Business https://www.nytimes.com/section/business\n",
    "- Tech https://www.nytimes.com/section/technology"
   ]
  },
  {
   "cell_type": "code",
   "execution_count": 16,
   "metadata": {
    "hidden": true
   },
   "outputs": [
    {
     "data": {
      "text/plain": [
       "200"
      ]
     },
     "execution_count": 16,
     "metadata": {},
     "output_type": "execute_result"
    }
   ],
   "source": [
    "url = \"https://www.nytimes.com/section/world\"\n",
    "\n",
    "content = requests.get(url = url, headers = {'Accept': 'text/html'}, timeout=(3, 27))\n",
    "\n",
    "content.status_code"
   ]
  },
  {
   "cell_type": "code",
   "execution_count": 17,
   "metadata": {
    "hidden": true
   },
   "outputs": [
    {
     "name": "stdout",
     "output_type": "stream",
     "text": [
      "44                                                nyt_w\n",
      "0  Polish Women Lead Strike Over Abortion Ruling ...\n",
      "1  Former South Korean President Ordered Back to ...\n",
      "2  France and Germany Lock Down as Second Coronav...\n",
      "3  In Azerbaijan, a String of Explosions, Screams...\n",
      "4  China’s Stance on Homosexuality Has Changed. I...\n"
     ]
    }
   ],
   "source": [
    "nyt_w = BeautifulSoup(content.content, 'html.parser')\n",
    "\n",
    "headlines = nyt_w.find_all(name=\"h2\")\n",
    "\n",
    "df_nyt_w = pd.DataFrame([i.text for i in headlines], columns=[\"nyt_w\"]).iloc[1:].reset_index(drop=True)\n",
    "print (df_nyt_w.size, df_nyt_w.head())"
   ]
  },
  {
   "cell_type": "code",
   "execution_count": 18,
   "metadata": {
    "hidden": true
   },
   "outputs": [
    {
     "data": {
      "text/plain": [
       "200"
      ]
     },
     "execution_count": 18,
     "metadata": {},
     "output_type": "execute_result"
    }
   ],
   "source": [
    "url = \"https://www.nytimes.com/section/politics\"\n",
    "\n",
    "content = requests.get(url = url, headers = {'Accept': 'text/html'}, timeout=(3, 27))\n",
    "\n",
    "content.status_code"
   ]
  },
  {
   "cell_type": "code",
   "execution_count": 19,
   "metadata": {
    "hidden": true
   },
   "outputs": [
    {
     "name": "stdout",
     "output_type": "stream",
     "text": [
      "18                                                nyt_p\n",
      "0  Miles Taylor, a Former Homeland Security Offic...\n",
      "1  Biden Holds 8-Point Lead in Michigan as He Tri...\n",
      "2  Trump’s Closing Argument on Virus Clashes With...\n",
      "3  The 2020 Campaign Is the Most Expensive Ever (...\n",
      "4        How Mail Votes Could Delay Election Results\n"
     ]
    }
   ],
   "source": [
    "nyt_p = BeautifulSoup(content.content, 'html.parser')\n",
    "\n",
    "headlines = nyt_p.find_all(name=\"h2\")\n",
    "\n",
    "df_nyt_p = pd.DataFrame([i.text for i in headlines], columns=[\"nyt_p\"]).iloc[1:].reset_index(drop=True)\n",
    "print (df_nyt_p.size, df_nyt_p.head())"
   ]
  },
  {
   "cell_type": "code",
   "execution_count": 20,
   "metadata": {
    "hidden": true
   },
   "outputs": [
    {
     "data": {
      "text/plain": [
       "200"
      ]
     },
     "execution_count": 20,
     "metadata": {},
     "output_type": "execute_result"
    }
   ],
   "source": [
    "url = \"https://www.nytimes.com/section/business\"\n",
    "\n",
    "content = requests.get(url = url, headers = {'Accept': 'text/html'}, timeout=(3, 27))\n",
    "\n",
    "content.status_code"
   ]
  },
  {
   "cell_type": "code",
   "execution_count": 21,
   "metadata": {
    "hidden": true
   },
   "outputs": [
    {
     "name": "stdout",
     "output_type": "stream",
     "text": [
      "34                                                nyt_b\n",
      "0  A Biden Win Could Renew a Democratic Split on ...\n",
      "1  Social Security Seemed Like a Future Problem. ...\n",
      "2  To Do Politics or Not Do Politics? Tech Start-...\n",
      "3  France Braces for Economic Suffering as Lockdo...\n",
      "4  Republicans Blast Social Media C.E.O.s While D...\n"
     ]
    }
   ],
   "source": [
    "nyt_b = BeautifulSoup(content.content, 'html.parser')\n",
    "\n",
    "headlines = nyt_b.find_all(name=\"h2\")\n",
    "\n",
    "df_nyt_b = pd.DataFrame([i.text for i in headlines], columns=[\"nyt_b\"]).iloc[1:].reset_index(drop=True)\n",
    "print (df_nyt_b.size, df_nyt_b.head())"
   ]
  },
  {
   "cell_type": "code",
   "execution_count": 22,
   "metadata": {
    "hidden": true
   },
   "outputs": [
    {
     "data": {
      "text/plain": [
       "200"
      ]
     },
     "execution_count": 22,
     "metadata": {},
     "output_type": "execute_result"
    }
   ],
   "source": [
    "url = \"https://www.nytimes.com/section/technology\"\n",
    "\n",
    "content = requests.get(url = url, headers = {'Accept': 'text/html'}, timeout=(3, 27))\n",
    "\n",
    "content.status_code"
   ]
  },
  {
   "cell_type": "code",
   "execution_count": 23,
   "metadata": {
    "hidden": true,
    "scrolled": true
   },
   "outputs": [
    {
     "name": "stdout",
     "output_type": "stream",
     "text": [
      "23                                                nyt_t\n",
      "0  Republicans Blast Social Media C.E.O.s While D...\n",
      "1  To Do Politics or Not Do Politics? Tech Start-...\n",
      "2       Trump Campaign Website Is Defaced by Hackers\n",
      "3                   We Need Policy, Not WrestleMania\n",
      "4                                Personal Technology\n"
     ]
    }
   ],
   "source": [
    "nyt_t = BeautifulSoup(content.content, 'html.parser')\n",
    "\n",
    "headlines = nyt_t.find_all(name=\"h2\")\n",
    "\n",
    "df_nyt_t = pd.DataFrame([i.text for i in headlines], columns=[\"nyt_t\"]).iloc[1:].reset_index(drop=True)\n",
    "print (df_nyt_t.size, df_nyt_t.head())"
   ]
  },
  {
   "cell_type": "markdown",
   "metadata": {
    "heading_collapsed": true
   },
   "source": [
    "# 2. Approach <a id=\"2\"></a>"
   ]
  },
  {
   "cell_type": "markdown",
   "metadata": {
    "hidden": true
   },
   "source": [
    "> <i>\"Natural language processing (NLP) is a subfield of linguistics, computer science, and artificial intelligence concerned with the interactions between computers and human language, in particular how to program computers to process and analyze large amounts of natural language data.\" </i> - Wikipedia"
   ]
  },
  {
   "cell_type": "markdown",
   "metadata": {
    "hidden": true
   },
   "source": [
    "Sentiment analysis is a text analysis method that detects polarity (e.g. a positive or negative opinion) within the text, whether a whole document, paragraph, sentence, or clause.\n",
    "\n",
    "Sentiment analysis aims to measure the attitude, sentiments, evaluations, attitudes, and emotions of a speaker/writer based on the computational treatment of subjectivity in a text."
   ]
  },
  {
   "cell_type": "markdown",
   "metadata": {
    "heading_collapsed": true,
    "hidden": true
   },
   "source": [
    "## ```VADER```"
   ]
  },
  {
   "cell_type": "markdown",
   "metadata": {
    "hidden": true
   },
   "source": [
    "VADER ( Valence Aware Dictionary for Sentiment Reasoning) is a model used for text sentiment analysis that is sensitive to both polarity (positive/negative) and intensity (strength) of emotion. It is available in the ```NLTK``` package and can be applied directly to unlabeled text data.\n",
    "\n",
    "VADER sentimental analysis relies on a dictionary that maps lexical features to emotion intensities known as sentiment scores. The sentiment score of a text can be obtained by summing up the intensity of each word in the text.\n",
    "\n",
    "For example- Words like ‘love’, ‘enjoy’, ‘happy’, ‘like’ all convey a positive sentiment. Also VADER is intelligent enough to understand the basic context of these words, such as “did not love” as a negative statement. It also understands the emphasis of capitalization and punctuation, such as “ENJOY”\n",
    "\n",
    "### Polarity classification\n",
    "\n",
    "We won’t try to determine if a sentence is objective or subjective, fact or opinion. Rather, we care only if the text expresses a positive, negative or neutral opinion."
   ]
  },
  {
   "cell_type": "markdown",
   "metadata": {
    "heading_collapsed": true,
    "hidden": true
   },
   "source": [
    "## ```pysentiment```"
   ]
  },
  {
   "cell_type": "markdown",
   "metadata": {
    "hidden": true
   },
   "source": [
    "This is a library for sentiment analysis in dictionary framework. Two dictionaries are provided in the library, namely, *[Harvard IV-4](http://www.wjh.harvard.edu/~inquirer/homecat.htm)* and *[Loughran and McDonald Financial Sentiment Dictionaries](https://sraf.nd.edu/)*, which are sentiment dictionaries for general and financial sentiment analysis."
   ]
  },
  {
   "cell_type": "markdown",
   "metadata": {
    "hidden": true
   },
   "source": [
    "##### Introduction\n",
    "\n",
    "```Positive``` and ```Negative``` are word counts for the words in positive and negative sets.\n",
    "\n",
    "```Polarity``` and ```Subjectivity``` are calculated in the same way of [Lydia](http://www.cs.sunysb.edu/~skiena/lydia/) system.\n",
    "\n",
    "The formula for Polarity is:\n",
    "\n",
    "$$\n",
    "Polarity = \\frac{Pos - Neg}{Pos + Neg}\n",
    "$$\n",
    "\n",
    "The formula for Subjectivity is:\n",
    "\n",
    "$$\n",
    "Subjectivity = \\frac{Pos + Neg}{count}\n",
    "$$\n"
   ]
  },
  {
   "cell_type": "markdown",
   "metadata": {
    "heading_collapsed": true
   },
   "source": [
    "# 3. Sentiment Scores  <a id=\"3\"></a>"
   ]
  },
  {
   "cell_type": "markdown",
   "metadata": {
    "heading_collapsed": true,
    "hidden": true
   },
   "source": [
    "## ... with VADER <a id=\"3\"></a>"
   ]
  },
  {
   "cell_type": "markdown",
   "metadata": {
    "hidden": true
   },
   "source": [
    "Let's have a look at our polarity scores with VADER!"
   ]
  },
  {
   "cell_type": "code",
   "execution_count": 29,
   "metadata": {
    "hidden": true
   },
   "outputs": [
    {
     "name": "stderr",
     "output_type": "stream",
     "text": [
      "[nltk_data] Downloading package vader_lexicon to\n",
      "[nltk_data]     /Users/jonas/nltk_data...\n",
      "[nltk_data]   Package vader_lexicon is already up-to-date!\n"
     ]
    }
   ],
   "source": [
    "nltk.download(\"vader_lexicon\")\n",
    "\n",
    "def get_score(row):\n",
    "    sid=SIA()\n",
    "    score=sid.polarity_scores(row)\n",
    "    return score[\"compound\"]"
   ]
  },
  {
   "cell_type": "code",
   "execution_count": 30,
   "metadata": {
    "hidden": true
   },
   "outputs": [],
   "source": [
    "df_bild_score = df_bild[\"bild\"].apply(get_score)\n",
    "df_bild_final = pd.concat([df_bild, df_bild_score ], axis=1, sort=False).rename(columns={\"bild\": \"bild\", \"bild\": \"score\"}, errors=\"raise\")"
   ]
  },
  {
   "cell_type": "code",
   "execution_count": 31,
   "metadata": {
    "hidden": true
   },
   "outputs": [
    {
     "data": {
      "text/html": [
       "<div>\n",
       "<style scoped>\n",
       "    .dataframe tbody tr th:only-of-type {\n",
       "        vertical-align: middle;\n",
       "    }\n",
       "\n",
       "    .dataframe tbody tr th {\n",
       "        vertical-align: top;\n",
       "    }\n",
       "\n",
       "    .dataframe thead th {\n",
       "        text-align: right;\n",
       "    }\n",
       "</style>\n",
       "<table border=\"1\" class=\"dataframe\">\n",
       "  <thead>\n",
       "    <tr style=\"text-align: right;\">\n",
       "      <th></th>\n",
       "      <th>score</th>\n",
       "      <th>score</th>\n",
       "    </tr>\n",
       "  </thead>\n",
       "  <tbody>\n",
       "    <tr>\n",
       "      <th>0</th>\n",
       "      <td>Bill Gates on conspiracy theories</td>\n",
       "      <td>-0.5267</td>\n",
       "    </tr>\n",
       "    <tr>\n",
       "      <th>1</th>\n",
       "      <td>“Run! The planes are bombing again!”</td>\n",
       "      <td>0.0000</td>\n",
       "    </tr>\n",
       "    <tr>\n",
       "      <th>2</th>\n",
       "      <td>Church bombed to ruins</td>\n",
       "      <td>-0.4404</td>\n",
       "    </tr>\n",
       "    <tr>\n",
       "      <th>3</th>\n",
       "      <td>„The city looks like German cities during the ...</td>\n",
       "      <td>0.3612</td>\n",
       "    </tr>\n",
       "    <tr>\n",
       "      <th>4</th>\n",
       "      <td>Navalny: Sanction Putin's closest circle</td>\n",
       "      <td>0.0000</td>\n",
       "    </tr>\n",
       "    <tr>\n",
       "      <th>5</th>\n",
       "      <td>China is celebrating, the world is suffering</td>\n",
       "      <td>0.1531</td>\n",
       "    </tr>\n",
       "    <tr>\n",
       "      <th>6</th>\n",
       "      <td>Why the US is withdrawing from the Open Skies ...</td>\n",
       "      <td>0.0000</td>\n",
       "    </tr>\n",
       "    <tr>\n",
       "      <th>7</th>\n",
       "      <td>The Thai king’s secret torture prison</td>\n",
       "      <td>-0.8020</td>\n",
       "    </tr>\n",
       "    <tr>\n",
       "      <th>8</th>\n",
       "      <td>„You are endangering the world“</td>\n",
       "      <td>0.0000</td>\n",
       "    </tr>\n",
       "    <tr>\n",
       "      <th>9</th>\n",
       "      <td>„There will be a time for assigning blame“</td>\n",
       "      <td>0.0000</td>\n",
       "    </tr>\n",
       "  </tbody>\n",
       "</table>\n",
       "</div>"
      ],
      "text/plain": [
       "                                               score   score\n",
       "0                  Bill Gates on conspiracy theories -0.5267\n",
       "1               “Run! The planes are bombing again!”  0.0000\n",
       "2                             Church bombed to ruins -0.4404\n",
       "3  „The city looks like German cities during the ...  0.3612\n",
       "4          Navalny: Sanction Putin's closest circle   0.0000\n",
       "5       China is celebrating, the world is suffering  0.1531\n",
       "6  Why the US is withdrawing from the Open Skies ...  0.0000\n",
       "7              The Thai king’s secret torture prison -0.8020\n",
       "8                    „You are endangering the world“  0.0000\n",
       "9         „There will be a time for assigning blame“  0.0000"
      ]
     },
     "execution_count": 31,
     "metadata": {},
     "output_type": "execute_result"
    }
   ],
   "source": [
    "df_bild_final.head(10)"
   ]
  },
  {
   "cell_type": "markdown",
   "metadata": {
    "hidden": true
   },
   "source": [
    "Not surprising, that **torture**, **bombed to ruins** and **conspiracy theories** don't have the most positive connotation. "
   ]
  },
  {
   "cell_type": "code",
   "execution_count": 32,
   "metadata": {
    "hidden": true
   },
   "outputs": [
    {
     "data": {
      "text/plain": [
       "score   -0.165825\n",
       "dtype: float64"
      ]
     },
     "execution_count": 32,
     "metadata": {},
     "output_type": "execute_result"
    }
   ],
   "source": [
    "daily_bild = df_bild_final[\"score\"].mean()\n",
    "daily_bild"
   ]
  },
  {
   "cell_type": "code",
   "execution_count": 33,
   "metadata": {
    "hidden": true
   },
   "outputs": [
    {
     "data": {
      "text/plain": [
       "-0.165825"
      ]
     },
     "execution_count": 33,
     "metadata": {},
     "output_type": "execute_result"
    }
   ],
   "source": [
    "#To wrap it up:\n",
    "bild_score = df_bild[\"bild\"].apply(get_score)\n",
    "daily_bild = bild_score.mean()\n",
    "daily_bild"
   ]
  },
  {
   "cell_type": "code",
   "execution_count": 34,
   "metadata": {
    "hidden": true
   },
   "outputs": [],
   "source": [
    "#Now for all:\n",
    "#Bild\n",
    "bild_score = df_bild[\"bild\"].apply(get_score)\n",
    "daily_bild = bild_score.mean()\n",
    "#Spiegel\n",
    "spiegel_score = df_spiegel[\"spiegel\"].apply(get_score)\n",
    "daily_spiegel = spiegel_score.mean()\n",
    "#Zeit\n",
    "zeit_score = df_zeit[\"zeit\"].apply(get_score)\n",
    "daily_zeit = zeit_score.mean()\n",
    "#FAZ\n",
    "faz_score = df_faz[\"faz\"].apply(get_score)\n",
    "daily_faz = faz_score.mean()\n",
    "#BBC\n",
    "bbc_score = df_bbc[\"bbc\"].apply(get_score)\n",
    "daily_bbc = bbc_score.mean()\n",
    "#CNN\n",
    "cnn_score = df_cnn[\"cnn\"].apply(get_score)\n",
    "daily_cnn = cnn_score.mean()\n",
    "#CNBC\n",
    "cnbc_score = df_cnbc[\"cnbc\"].apply(get_score)\n",
    "daily_cnbc = cnbc_score.mean()\n",
    "#NYT World\n",
    "nyt_w_score = df_nyt_w[\"nyt_w\"].apply(get_score)\n",
    "daily_nyt_w = nyt_w_score.mean()\n",
    "#NYT Politics\n",
    "nyt_p_score = df_nyt_p[\"nyt_p\"].apply(get_score)\n",
    "daily_nyt_p = nyt_p_score.mean()\n",
    "#NYT Business\n",
    "nyt_b_score = df_nyt_b[\"nyt_b\"].apply(get_score)\n",
    "daily_nyt_b = nyt_b_score.mean()\n",
    "#NYT Tech\n",
    "nyt_t_score = df_nyt_t[\"nyt_t\"].apply(get_score)\n",
    "daily_nyt_t = nyt_t_score.mean()"
   ]
  },
  {
   "cell_type": "markdown",
   "metadata": {
    "hidden": true
   },
   "source": [
    "##### Lets add a Timestamp so we can use the Headlines as Timeseries"
   ]
  },
  {
   "cell_type": "code",
   "execution_count": 35,
   "metadata": {
    "hidden": true
   },
   "outputs": [
    {
     "data": {
      "text/plain": [
       "'10/29/2020'"
      ]
     },
     "execution_count": 35,
     "metadata": {},
     "output_type": "execute_result"
    }
   ],
   "source": [
    "n = pd.to_datetime('today').strftime(\"%m/%d/%Y\")\n",
    "n"
   ]
  },
  {
   "cell_type": "code",
   "execution_count": 36,
   "metadata": {
    "hidden": true
   },
   "outputs": [],
   "source": [
    "ds = {'Timestamp':[n] ,'daily_bild':[daily_bild],'daily_spiegel':[daily_spiegel] , 'daily_zeit':[daily_zeit], 'daily_faz':[daily_faz], 'daily_bbc':[daily_bbc], 'daily_cnn':[daily_cnn], 'daily_cnbc':[daily_cnbc], 'daily_nyt_w':[daily_nyt_w], 'daily_nyt_p':[daily_nyt_p], 'daily_nyt_b':[daily_nyt_b], 'daily_nyt_t':[daily_nyt_t]}"
   ]
  },
  {
   "cell_type": "markdown",
   "metadata": {
    "hidden": true
   },
   "source": [
    "Let's put this together!"
   ]
  },
  {
   "cell_type": "code",
   "execution_count": 37,
   "metadata": {
    "hidden": true
   },
   "outputs": [],
   "source": [
    "daily_sentiment = pd.DataFrame(ds, columns = ['Timestamp','daily_bild' ,'daily_spiegel' , 'daily_zeit', 'daily_faz', 'daily_bbc', 'daily_cnn', 'daily_cnbc', 'daily_nyt_w', 'daily_nyt_p', 'daily_nyt_b', 'daily_nyt_t'])"
   ]
  },
  {
   "cell_type": "code",
   "execution_count": 38,
   "metadata": {
    "hidden": true
   },
   "outputs": [
    {
     "data": {
      "text/plain": [
       "0   2020-10-29\n",
       "Name: Timestamp, dtype: datetime64[ns]"
      ]
     },
     "execution_count": 38,
     "metadata": {},
     "output_type": "execute_result"
    }
   ],
   "source": [
    "pd.to_datetime(daily_sentiment['Timestamp'])   "
   ]
  },
  {
   "cell_type": "code",
   "execution_count": 39,
   "metadata": {
    "hidden": true
   },
   "outputs": [
    {
     "data": {
      "text/plain": [
       "Timestamp         object\n",
       "daily_bild       float64\n",
       "daily_spiegel    float64\n",
       "daily_zeit       float64\n",
       "daily_faz        float64\n",
       "daily_bbc        float64\n",
       "daily_cnn        float64\n",
       "daily_cnbc       float64\n",
       "daily_nyt_w      float64\n",
       "daily_nyt_p      float64\n",
       "daily_nyt_b      float64\n",
       "daily_nyt_t      float64\n",
       "dtype: object"
      ]
     },
     "execution_count": 39,
     "metadata": {},
     "output_type": "execute_result"
    }
   ],
   "source": [
    "daily_sentiment.dtypes"
   ]
  },
  {
   "cell_type": "code",
   "execution_count": 40,
   "metadata": {
    "hidden": true,
    "scrolled": true
   },
   "outputs": [
    {
     "data": {
      "text/html": [
       "<div>\n",
       "<style scoped>\n",
       "    .dataframe tbody tr th:only-of-type {\n",
       "        vertical-align: middle;\n",
       "    }\n",
       "\n",
       "    .dataframe tbody tr th {\n",
       "        vertical-align: top;\n",
       "    }\n",
       "\n",
       "    .dataframe thead th {\n",
       "        text-align: right;\n",
       "    }\n",
       "</style>\n",
       "<table border=\"1\" class=\"dataframe\">\n",
       "  <thead>\n",
       "    <tr style=\"text-align: right;\">\n",
       "      <th></th>\n",
       "      <th>Timestamp</th>\n",
       "      <th>daily_bild</th>\n",
       "      <th>daily_spiegel</th>\n",
       "      <th>daily_zeit</th>\n",
       "      <th>daily_faz</th>\n",
       "      <th>daily_bbc</th>\n",
       "      <th>daily_cnn</th>\n",
       "      <th>daily_cnbc</th>\n",
       "      <th>daily_nyt_w</th>\n",
       "      <th>daily_nyt_p</th>\n",
       "      <th>daily_nyt_b</th>\n",
       "      <th>daily_nyt_t</th>\n",
       "    </tr>\n",
       "  </thead>\n",
       "  <tbody>\n",
       "    <tr>\n",
       "      <th>0</th>\n",
       "      <td>10/29/2020</td>\n",
       "      <td>-0.165825</td>\n",
       "      <td>-0.117319</td>\n",
       "      <td>-0.123405</td>\n",
       "      <td>0.03131</td>\n",
       "      <td>-0.095169</td>\n",
       "      <td>-0.126438</td>\n",
       "      <td>0.064153</td>\n",
       "      <td>-0.124</td>\n",
       "      <td>-0.07485</td>\n",
       "      <td>0.040724</td>\n",
       "      <td>-0.089235</td>\n",
       "    </tr>\n",
       "  </tbody>\n",
       "</table>\n",
       "</div>"
      ],
      "text/plain": [
       "    Timestamp  daily_bild  daily_spiegel  daily_zeit  daily_faz  daily_bbc  \\\n",
       "0  10/29/2020   -0.165825      -0.117319   -0.123405    0.03131  -0.095169   \n",
       "\n",
       "   daily_cnn  daily_cnbc  daily_nyt_w  daily_nyt_p  daily_nyt_b  daily_nyt_t  \n",
       "0  -0.126438    0.064153       -0.124     -0.07485     0.040724    -0.089235  "
      ]
     },
     "execution_count": 40,
     "metadata": {},
     "output_type": "execute_result"
    }
   ],
   "source": [
    "daily_sentiment.head()"
   ]
  },
  {
   "cell_type": "code",
   "execution_count": 41,
   "metadata": {
    "hidden": true
   },
   "outputs": [],
   "source": [
    "df = daily_sentiment.T\n",
    "df.columns = ['polarity']\n",
    "df.drop(['Timestamp'], inplace=True)\n",
    "df[\"polarity\"] = pd.to_numeric(df[\"polarity\"])"
   ]
  },
  {
   "cell_type": "code",
   "execution_count": 42,
   "metadata": {
    "hidden": true
   },
   "outputs": [
    {
     "data": {
      "text/plain": [
       "polarity    float64\n",
       "dtype: object"
      ]
     },
     "execution_count": 42,
     "metadata": {},
     "output_type": "execute_result"
    }
   ],
   "source": [
    "df.dtypes"
   ]
  },
  {
   "cell_type": "markdown",
   "metadata": {
    "hidden": true
   },
   "source": [
    "#### Normalized Dataframes for more robust statistics\n",
    "\n",
    "**Z-score** (a.k.a. *Standard score*) is the number of standard deviations ($\\sigma$) by which the value ($x$) of a raw score (i.e., an observed value or data point) is above or below the mean value ($\\mu$) of what is being observed or measured.\n",
    "\n",
    "\n",
    "\n",
    "$$ \n",
    "z = \\frac{x - \\mu }{\\sigma} \\\\\n",
    "$$\n",
    "\n",
    "$z$ = z-Score;\n",
    "$x$ = value;\n",
    "$\\mu$ = mean;\n",
    "$\\sigma$ = standard deviation"
   ]
  },
  {
   "cell_type": "code",
   "execution_count": 43,
   "metadata": {
    "hidden": true
   },
   "outputs": [
    {
     "data": {
      "text/html": [
       "<div>\n",
       "<style scoped>\n",
       "    .dataframe tbody tr th:only-of-type {\n",
       "        vertical-align: middle;\n",
       "    }\n",
       "\n",
       "    .dataframe tbody tr th {\n",
       "        vertical-align: top;\n",
       "    }\n",
       "\n",
       "    .dataframe thead th {\n",
       "        text-align: right;\n",
       "    }\n",
       "</style>\n",
       "<table border=\"1\" class=\"dataframe\">\n",
       "  <thead>\n",
       "    <tr style=\"text-align: right;\">\n",
       "      <th></th>\n",
       "      <th>polarity</th>\n",
       "    </tr>\n",
       "  </thead>\n",
       "  <tbody>\n",
       "    <tr>\n",
       "      <th>daily_bild</th>\n",
       "      <td>-1.206218</td>\n",
       "    </tr>\n",
       "    <tr>\n",
       "      <th>daily_spiegel</th>\n",
       "      <td>-0.589752</td>\n",
       "    </tr>\n",
       "    <tr>\n",
       "      <th>daily_zeit</th>\n",
       "      <td>-0.667105</td>\n",
       "    </tr>\n",
       "    <tr>\n",
       "      <th>daily_faz</th>\n",
       "      <td>1.299158</td>\n",
       "    </tr>\n",
       "    <tr>\n",
       "      <th>daily_bbc</th>\n",
       "      <td>-0.308262</td>\n",
       "    </tr>\n",
       "    <tr>\n",
       "      <th>daily_cnn</th>\n",
       "      <td>-0.705645</td>\n",
       "    </tr>\n",
       "    <tr>\n",
       "      <th>daily_cnbc</th>\n",
       "      <td>1.716556</td>\n",
       "    </tr>\n",
       "    <tr>\n",
       "      <th>daily_nyt_w</th>\n",
       "      <td>-0.674667</td>\n",
       "    </tr>\n",
       "    <tr>\n",
       "      <th>daily_nyt_p</th>\n",
       "      <td>-0.050023</td>\n",
       "    </tr>\n",
       "    <tr>\n",
       "      <th>daily_nyt_b</th>\n",
       "      <td>1.418794</td>\n",
       "    </tr>\n",
       "    <tr>\n",
       "      <th>daily_nyt_t</th>\n",
       "      <td>-0.232838</td>\n",
       "    </tr>\n",
       "  </tbody>\n",
       "</table>\n",
       "</div>"
      ],
      "text/plain": [
       "               polarity\n",
       "daily_bild    -1.206218\n",
       "daily_spiegel -0.589752\n",
       "daily_zeit    -0.667105\n",
       "daily_faz      1.299158\n",
       "daily_bbc     -0.308262\n",
       "daily_cnn     -0.705645\n",
       "daily_cnbc     1.716556\n",
       "daily_nyt_w   -0.674667\n",
       "daily_nyt_p   -0.050023\n",
       "daily_nyt_b    1.418794\n",
       "daily_nyt_t   -0.232838"
      ]
     },
     "execution_count": 43,
     "metadata": {},
     "output_type": "execute_result"
    }
   ],
   "source": [
    "df_zscore = (df - df.mean())/df.std()\n",
    "df_zscore"
   ]
  },
  {
   "cell_type": "code",
   "execution_count": 44,
   "metadata": {
    "hidden": true
   },
   "outputs": [
    {
     "data": {
      "image/png": "[encoded data removed]",
      "text/plain": [
       "<Figure size 1440x720 with 1 Axes>"
      ]
     },
     "metadata": {
      "needs_background": "light"
     },
     "output_type": "display_data"
    }
   ],
   "source": [
    "fig = plt.figure(figsize=(20,10))\n",
    "ax = fig.add_axes([0,0,1,1])\n",
    "langs = ['daily_bild' , 'daily_spiegel', 'daily_zeit', 'daily_faz', 'daily_bbc', 'daily_cnn', 'daily_cnbc', 'daily_nyt_w', 'daily_nyt_p', 'daily_nyt_b', 'daily_nyt_t']\n",
    "students = df_zscore[\"polarity\"]\n",
    "ax.bar(langs,students)\n",
    "plt.show()"
   ]
  },
  {
   "cell_type": "markdown",
   "metadata": {
    "hidden": true
   },
   "source": [
    "##### At this point this has no significance, because of its short time frame of one day\n",
    "But it was expected, that 'Bild' is among the more negative connotation"
   ]
  },
  {
   "cell_type": "markdown",
   "metadata": {
    "heading_collapsed": true,
    "hidden": true
   },
   "source": [
    "## with [```pysentiment``` ](https://nickderobertis.github.io/pysentiment/)"
   ]
  },
  {
   "cell_type": "markdown",
   "metadata": {
    "hidden": true
   },
   "source": [
    "We have two different dictionaries, namely *[Harvard IV-4](http://www.wjh.harvard.edu/~inquirer/homecat.htm)* and *[Loughran and McDonald Financial Sentiment Dictionaries](https://sraf.nd.edu/)*. Therefore we have two different *models*:"
   ]
  },
  {
   "cell_type": "code",
   "execution_count": 79,
   "metadata": {
    "hidden": true
   },
   "outputs": [],
   "source": [
    "hiv4 = ps.HIV4()\n",
    "lm = ps.LM()"
   ]
  },
  {
   "cell_type": "markdown",
   "metadata": {
    "hidden": true
   },
   "source": [
    "Next we define our ```pyscore``` "
   ]
  },
  {
   "cell_type": "code",
   "execution_count": 91,
   "metadata": {
    "hidden": true
   },
   "outputs": [],
   "source": [
    "def get_pyscore(row,model):\n",
    "    return pd.Series(model.get_score(model.tokenize(text=row)))"
   ]
  },
  {
   "cell_type": "markdown",
   "metadata": {
    "hidden": true
   },
   "source": [
    "Let's use our example with Bild again:"
   ]
  },
  {
   "cell_type": "code",
   "execution_count": 109,
   "metadata": {
    "hidden": true
   },
   "outputs": [],
   "source": [
    "bild_score_h = df_bild[\"bild\"].apply(get_pyscore, model=hiv4)\n",
    "bild_score_h.columns = ['Positive_h', 'Negative_h', 'Polarity_h', 'Subjectivity_h']\n",
    "bild_score_l = df_bild[\"bild\"].apply(get_pyscore, model=lm)\n",
    "bild_score_l.columns = ['Positive_l', 'Negative_l', 'Polarity_l', 'Subjectivity_l']\n",
    "\n",
    "bild_scores=pd.concat([bild_score_h, bild_score_l], axis=1)"
   ]
  },
  {
   "cell_type": "code",
   "execution_count": 110,
   "metadata": {
    "hidden": true
   },
   "outputs": [
    {
     "data": {
      "text/html": [
       "<div>\n",
       "<style scoped>\n",
       "    .dataframe tbody tr th:only-of-type {\n",
       "        vertical-align: middle;\n",
       "    }\n",
       "\n",
       "    .dataframe tbody tr th {\n",
       "        vertical-align: top;\n",
       "    }\n",
       "\n",
       "    .dataframe thead th {\n",
       "        text-align: right;\n",
       "    }\n",
       "</style>\n",
       "<table border=\"1\" class=\"dataframe\">\n",
       "  <thead>\n",
       "    <tr style=\"text-align: right;\">\n",
       "      <th></th>\n",
       "      <th>Positive_h</th>\n",
       "      <th>Negative_h</th>\n",
       "      <th>Polarity_h</th>\n",
       "      <th>Subjectivity_h</th>\n",
       "      <th>Positive_l</th>\n",
       "      <th>Negative_l</th>\n",
       "      <th>Polarity_l</th>\n",
       "      <th>Subjectivity_l</th>\n",
       "    </tr>\n",
       "  </thead>\n",
       "  <tbody>\n",
       "    <tr>\n",
       "      <th>0</th>\n",
       "      <td>0.0</td>\n",
       "      <td>1.0</td>\n",
       "      <td>-0.999999</td>\n",
       "      <td>0.333333</td>\n",
       "      <td>0.0</td>\n",
       "      <td>1.0</td>\n",
       "      <td>-0.999999</td>\n",
       "      <td>0.333333</td>\n",
       "    </tr>\n",
       "    <tr>\n",
       "      <th>1</th>\n",
       "      <td>0.0</td>\n",
       "      <td>2.0</td>\n",
       "      <td>-1.000000</td>\n",
       "      <td>0.666666</td>\n",
       "      <td>0.0</td>\n",
       "      <td>0.0</td>\n",
       "      <td>0.000000</td>\n",
       "      <td>0.000000</td>\n",
       "    </tr>\n",
       "    <tr>\n",
       "      <th>2</th>\n",
       "      <td>0.0</td>\n",
       "      <td>2.0</td>\n",
       "      <td>-1.000000</td>\n",
       "      <td>1.000000</td>\n",
       "      <td>0.0</td>\n",
       "      <td>0.0</td>\n",
       "      <td>0.000000</td>\n",
       "      <td>0.000000</td>\n",
       "    </tr>\n",
       "    <tr>\n",
       "      <th>3</th>\n",
       "      <td>2.0</td>\n",
       "      <td>1.0</td>\n",
       "      <td>0.333333</td>\n",
       "      <td>0.750000</td>\n",
       "      <td>0.0</td>\n",
       "      <td>0.0</td>\n",
       "      <td>0.000000</td>\n",
       "      <td>0.000000</td>\n",
       "    </tr>\n",
       "    <tr>\n",
       "      <th>4</th>\n",
       "      <td>0.0</td>\n",
       "      <td>1.0</td>\n",
       "      <td>-0.999999</td>\n",
       "      <td>0.166667</td>\n",
       "      <td>0.0</td>\n",
       "      <td>0.0</td>\n",
       "      <td>0.000000</td>\n",
       "      <td>0.000000</td>\n",
       "    </tr>\n",
       "    <tr>\n",
       "      <th>5</th>\n",
       "      <td>2.0</td>\n",
       "      <td>1.0</td>\n",
       "      <td>0.333333</td>\n",
       "      <td>1.000000</td>\n",
       "      <td>0.0</td>\n",
       "      <td>1.0</td>\n",
       "      <td>-0.999999</td>\n",
       "      <td>0.333333</td>\n",
       "    </tr>\n",
       "    <tr>\n",
       "      <th>6</th>\n",
       "      <td>2.0</td>\n",
       "      <td>0.0</td>\n",
       "      <td>1.000000</td>\n",
       "      <td>0.500000</td>\n",
       "      <td>0.0</td>\n",
       "      <td>0.0</td>\n",
       "      <td>0.000000</td>\n",
       "      <td>0.000000</td>\n",
       "    </tr>\n",
       "    <tr>\n",
       "      <th>7</th>\n",
       "      <td>0.0</td>\n",
       "      <td>3.0</td>\n",
       "      <td>-1.000000</td>\n",
       "      <td>0.750000</td>\n",
       "      <td>0.0</td>\n",
       "      <td>0.0</td>\n",
       "      <td>0.000000</td>\n",
       "      <td>0.000000</td>\n",
       "    </tr>\n",
       "    <tr>\n",
       "      <th>8</th>\n",
       "      <td>1.0</td>\n",
       "      <td>1.0</td>\n",
       "      <td>0.000000</td>\n",
       "      <td>1.000000</td>\n",
       "      <td>0.0</td>\n",
       "      <td>1.0</td>\n",
       "      <td>-0.999999</td>\n",
       "      <td>0.500000</td>\n",
       "    </tr>\n",
       "    <tr>\n",
       "      <th>9</th>\n",
       "      <td>0.0</td>\n",
       "      <td>1.0</td>\n",
       "      <td>-0.999999</td>\n",
       "      <td>0.333333</td>\n",
       "      <td>0.0</td>\n",
       "      <td>0.0</td>\n",
       "      <td>0.000000</td>\n",
       "      <td>0.000000</td>\n",
       "    </tr>\n",
       "    <tr>\n",
       "      <th>10</th>\n",
       "      <td>0.0</td>\n",
       "      <td>0.0</td>\n",
       "      <td>0.000000</td>\n",
       "      <td>0.000000</td>\n",
       "      <td>0.0</td>\n",
       "      <td>0.0</td>\n",
       "      <td>0.000000</td>\n",
       "      <td>0.000000</td>\n",
       "    </tr>\n",
       "    <tr>\n",
       "      <th>11</th>\n",
       "      <td>1.0</td>\n",
       "      <td>2.0</td>\n",
       "      <td>-0.333333</td>\n",
       "      <td>0.750000</td>\n",
       "      <td>0.0</td>\n",
       "      <td>1.0</td>\n",
       "      <td>-0.999999</td>\n",
       "      <td>0.250000</td>\n",
       "    </tr>\n",
       "  </tbody>\n",
       "</table>\n",
       "</div>"
      ],
      "text/plain": [
       "    Positive_h  Negative_h  Polarity_h  Subjectivity_h  Positive_l  \\\n",
       "0          0.0         1.0   -0.999999        0.333333         0.0   \n",
       "1          0.0         2.0   -1.000000        0.666666         0.0   \n",
       "2          0.0         2.0   -1.000000        1.000000         0.0   \n",
       "3          2.0         1.0    0.333333        0.750000         0.0   \n",
       "4          0.0         1.0   -0.999999        0.166667         0.0   \n",
       "5          2.0         1.0    0.333333        1.000000         0.0   \n",
       "6          2.0         0.0    1.000000        0.500000         0.0   \n",
       "7          0.0         3.0   -1.000000        0.750000         0.0   \n",
       "8          1.0         1.0    0.000000        1.000000         0.0   \n",
       "9          0.0         1.0   -0.999999        0.333333         0.0   \n",
       "10         0.0         0.0    0.000000        0.000000         0.0   \n",
       "11         1.0         2.0   -0.333333        0.750000         0.0   \n",
       "\n",
       "    Negative_l  Polarity_l  Subjectivity_l  \n",
       "0          1.0   -0.999999        0.333333  \n",
       "1          0.0    0.000000        0.000000  \n",
       "2          0.0    0.000000        0.000000  \n",
       "3          0.0    0.000000        0.000000  \n",
       "4          0.0    0.000000        0.000000  \n",
       "5          1.0   -0.999999        0.333333  \n",
       "6          0.0    0.000000        0.000000  \n",
       "7          0.0    0.000000        0.000000  \n",
       "8          1.0   -0.999999        0.500000  \n",
       "9          0.0    0.000000        0.000000  \n",
       "10         0.0    0.000000        0.000000  \n",
       "11         1.0   -0.999999        0.250000  "
      ]
     },
     "execution_count": 110,
     "metadata": {},
     "output_type": "execute_result"
    }
   ],
   "source": [
    "bild_scores"
   ]
  },
  {
   "cell_type": "markdown",
   "metadata": {
    "hidden": true
   },
   "source": [
    "The results seem a bit more binary in comparison to our VADER results\n",
    "Also we should drop the columns *Positive* and *Negative*, because they don't have a lot of meaning to us - the polarity and subjectivity scores are aggregated from them."
   ]
  },
  {
   "cell_type": "code",
   "execution_count": 187,
   "metadata": {
    "hidden": true
   },
   "outputs": [],
   "source": [
    "bild_score_h = df_bild[\"bild\"].apply(get_pyscore, model=hiv4).drop(['Positive', 'Negative'], axis=1)\n",
    "bild_score_h.columns = ['Polarity_h', 'Subjectivity_h']\n",
    "\n",
    "bild_score_l = df_bild[\"bild\"].apply(get_pyscore, model=lm).drop(['Positive', 'Negative'], axis=1)\n",
    "bild_score_l.columns = [ 'Polarity_l', 'Subjectivity_l']"
   ]
  },
  {
   "cell_type": "code",
   "execution_count": 188,
   "metadata": {
    "hidden": true
   },
   "outputs": [],
   "source": [
    "bild_scores = pd.concat([bild_score_h, bild_score_l], axis=1)"
   ]
  },
  {
   "cell_type": "code",
   "execution_count": 189,
   "metadata": {
    "hidden": true
   },
   "outputs": [],
   "source": [
    "bild_scores =  (bild_scores.mean().to_frame().T)"
   ]
  },
  {
   "cell_type": "code",
   "execution_count": 190,
   "metadata": {
    "hidden": true
   },
   "outputs": [],
   "source": [
    "bild_scores.insert(loc=0, column='bild', value=daily_bild)\n"
   ]
  },
  {
   "cell_type": "code",
   "execution_count": 191,
   "metadata": {
    "hidden": true
   },
   "outputs": [
    {
     "data": {
      "text/html": [
       "<div>\n",
       "<style scoped>\n",
       "    .dataframe tbody tr th:only-of-type {\n",
       "        vertical-align: middle;\n",
       "    }\n",
       "\n",
       "    .dataframe tbody tr th {\n",
       "        vertical-align: top;\n",
       "    }\n",
       "\n",
       "    .dataframe thead th {\n",
       "        text-align: right;\n",
       "    }\n",
       "</style>\n",
       "<table border=\"1\" class=\"dataframe\">\n",
       "  <thead>\n",
       "    <tr style=\"text-align: right;\">\n",
       "      <th></th>\n",
       "      <th>bild</th>\n",
       "      <th>Polarity_h</th>\n",
       "      <th>Subjectivity_h</th>\n",
       "      <th>Polarity_l</th>\n",
       "      <th>Subjectivity_l</th>\n",
       "    </tr>\n",
       "  </thead>\n",
       "  <tbody>\n",
       "    <tr>\n",
       "      <th>0</th>\n",
       "      <td>-0.165825</td>\n",
       "      <td>-0.388889</td>\n",
       "      <td>0.604166</td>\n",
       "      <td>-0.333333</td>\n",
       "      <td>0.118056</td>\n",
       "    </tr>\n",
       "  </tbody>\n",
       "</table>\n",
       "</div>"
      ],
      "text/plain": [
       "       bild  Polarity_h  Subjectivity_h  Polarity_l  Subjectivity_l\n",
       "0 -0.165825   -0.388889        0.604166   -0.333333        0.118056"
      ]
     },
     "execution_count": 191,
     "metadata": {},
     "output_type": "execute_result"
    }
   ],
   "source": [
    "bild_scores"
   ]
  },
  {
   "cell_type": "markdown",
   "metadata": {
    "hidden": true
   },
   "source": [
    "Now a bit more compact: "
   ]
  },
  {
   "cell_type": "code",
   "execution_count": 199,
   "metadata": {
    "hidden": true
   },
   "outputs": [],
   "source": [
    "score_h = df_bild[\"bild\"].apply(get_pyscore, model=hiv4).drop(['Positive', 'Negative'], axis=1)\n",
    "score_h.columns = ['Polarity_h', 'Subjectivity_h']\n",
    "\n",
    "score_l = df_bild[\"bild\"].apply(get_pyscore, model=lm).drop(['Positive', 'Negative'], axis=1)\n",
    "score_l.columns = [ 'Polarity_l', 'Subjectivity_l']\n",
    "\n",
    "scores = pd.concat([score_h, score_l], axis=1)\n",
    "scores = scores.mean().to_frame().T\n",
    "scores.insert(loc=0, column='bild', value=daily_bild)\n",
    "bild_scores = scores"
   ]
  },
  {
   "cell_type": "code",
   "execution_count": 200,
   "metadata": {
    "hidden": true
   },
   "outputs": [
    {
     "data": {
      "text/html": [
       "<div>\n",
       "<style scoped>\n",
       "    .dataframe tbody tr th:only-of-type {\n",
       "        vertical-align: middle;\n",
       "    }\n",
       "\n",
       "    .dataframe tbody tr th {\n",
       "        vertical-align: top;\n",
       "    }\n",
       "\n",
       "    .dataframe thead th {\n",
       "        text-align: right;\n",
       "    }\n",
       "</style>\n",
       "<table border=\"1\" class=\"dataframe\">\n",
       "  <thead>\n",
       "    <tr style=\"text-align: right;\">\n",
       "      <th></th>\n",
       "      <th>bild</th>\n",
       "      <th>Polarity_h</th>\n",
       "      <th>Subjectivity_h</th>\n",
       "      <th>Polarity_l</th>\n",
       "      <th>Subjectivity_l</th>\n",
       "    </tr>\n",
       "  </thead>\n",
       "  <tbody>\n",
       "    <tr>\n",
       "      <th>0</th>\n",
       "      <td>-0.165825</td>\n",
       "      <td>-0.388889</td>\n",
       "      <td>0.604166</td>\n",
       "      <td>-0.333333</td>\n",
       "      <td>0.118056</td>\n",
       "    </tr>\n",
       "  </tbody>\n",
       "</table>\n",
       "</div>"
      ],
      "text/plain": [
       "       bild  Polarity_h  Subjectivity_h  Polarity_l  Subjectivity_l\n",
       "0 -0.165825   -0.388889        0.604166   -0.333333        0.118056"
      ]
     },
     "execution_count": 200,
     "metadata": {},
     "output_type": "execute_result"
    }
   ],
   "source": [
    "bild_scores"
   ]
  },
  {
   "cell_type": "code",
   "execution_count": 201,
   "metadata": {
    "hidden": true
   },
   "outputs": [],
   "source": [
    "#Now for all:\n",
    "#Bild\n",
    "score_h = df_bild[\"bild\"].apply(get_pyscore, model=hiv4).drop(['Positive', 'Negative'], axis=1)\n",
    "score_h.columns = ['Polarity_h', 'Subjectivity_h']\n",
    "\n",
    "score_l = df_bild[\"bild\"].apply(get_pyscore, model=lm).drop(['Positive', 'Negative'], axis=1)\n",
    "score_l.columns = [ 'Polarity_l', 'Subjectivity_l']\n",
    "\n",
    "scores = pd.concat([score_h, score_l], axis=1)\n",
    "scores =  (scores.mean().to_frame().T)\n",
    "scores = scores.insert(loc=0, column='bild', value=daily_bild)\n",
    "bild_scores = scores\n",
    "\n",
    "#Spiegel\n",
    "score_h = df_spiegel[\"spiegel\"].apply(get_pyscore, model=hiv4).drop(['Positive', 'Negative'], axis=1)\n",
    "score_h.columns = ['Polarity_h', 'Subjectivity_h']\n",
    "\n",
    "score_l = df_spiegel[\"spiegel\"].apply(get_pyscore, model=lm).drop(['Positive', 'Negative'], axis=1)\n",
    "score_l.columns = [ 'Polarity_l', 'Subjectivity_l']\n",
    "\n",
    "scores = pd.concat([score_h, score_l], axis=1)\n",
    "scores =  (scores.mean().to_frame().T)\n",
    "scores.insert(loc=0, column='spiegel', value=daily_spiegel)\n",
    "spiegel_scores = scores\n",
    "\n",
    "#Zeit\n",
    "score_h = df_zeit[\"zeit\"].apply(get_pyscore, model=hiv4).drop(['Positive', 'Negative'], axis=1)\n",
    "score_h.columns = ['Polarity_h', 'Subjectivity_h']\n",
    "\n",
    "score_l = df_zeit[\"zeit\"].apply(get_pyscore, model=lm).drop(['Positive', 'Negative'], axis=1)\n",
    "score_l.columns = [ 'Polarity_l', 'Subjectivity_l']\n",
    "\n",
    "scores = pd.concat([score_h, score_l], axis=1)\n",
    "scores =  (scores.mean().to_frame().T)\n",
    "scores.insert(loc=0, column='zeit', value=daily_zeit)\n",
    "zeit_scores = scores\n",
    "\n",
    "#FAZ\n",
    "score_h = df_faz[\"faz\"].apply(get_pyscore, model=hiv4).drop(['Positive', 'Negative'], axis=1)\n",
    "score_h.columns = ['Polarity_h', 'Subjectivity_h']\n",
    "\n",
    "score_l = df_faz[\"faz\"].apply(get_pyscore, model=lm).drop(['Positive', 'Negative'], axis=1)\n",
    "score_l.columns = [ 'Polarity_l', 'Subjectivity_l']\n",
    "\n",
    "scores = pd.concat([score_h, score_l], axis=1)\n",
    "scores =  (scores.mean().to_frame().T)\n",
    "scores.insert(loc=0, column='faz', value=daily_faz)\n",
    "faz_scores = scores\n",
    "\n",
    "#BBC\n",
    "score_h = df_bbc[\"bbc\"].apply(get_pyscore, model=hiv4).drop(['Positive', 'Negative'], axis=1)\n",
    "score_h.columns = ['Polarity_h', 'Subjectivity_h']\n",
    "\n",
    "score_l = df_bbc[\"bbc\"].apply(get_pyscore, model=lm).drop(['Positive', 'Negative'], axis=1)\n",
    "score_l.columns = [ 'Polarity_l', 'Subjectivity_l']\n",
    "\n",
    "scores = pd.concat([score_h, score_l], axis=1)\n",
    "scores =  (scores.mean().to_frame().T)\n",
    "scores.insert(loc=0, column='bbc', value=daily_bbc)\n",
    "bbc_scores = scores\n",
    "\n",
    "#CNN\n",
    "score_h = df_cnn[\"cnn\"].apply(get_pyscore, model=hiv4).drop(['Positive', 'Negative'], axis=1)\n",
    "score_h.columns = ['Polarity_h', 'Subjectivity_h']\n",
    "\n",
    "score_l = df_cnn[\"cnn\"].apply(get_pyscore, model=lm).drop(['Positive', 'Negative'], axis=1)\n",
    "score_l.columns = [ 'Polarity_l', 'Subjectivity_l']\n",
    "\n",
    "scores = pd.concat([score_h, score_l], axis=1)\n",
    "scores =  (scores.mean().to_frame().T)\n",
    "scores.insert(loc=0, column='cnn', value=daily_cnn)\n",
    "cnn_scores = scores\n",
    "\n",
    "#CNBC\n",
    "score_h = df_cnbc[\"cnbc\"].apply(get_pyscore, model=hiv4).drop(['Positive', 'Negative'], axis=1)\n",
    "score_h.columns = ['Polarity_h', 'Subjectivity_h']\n",
    "\n",
    "score_l = df_cnbc[\"cnbc\"].apply(get_pyscore, model=lm).drop(['Positive', 'Negative'], axis=1)\n",
    "score_l.columns = [ 'Polarity_l', 'Subjectivity_l']\n",
    "\n",
    "scores = pd.concat([score_h, score_l], axis=1)\n",
    "scores =  (scores.mean().to_frame().T)\n",
    "scores.insert(loc=0, column='cnbc', value=daily_cnbc)\n",
    "cnbc_scores = scores\n",
    "\n",
    "#NYT World\n",
    "score_h = df_nyt_w[\"nyt_w\"].apply(get_pyscore, model=hiv4).drop(['Positive', 'Negative'], axis=1)\n",
    "score_h.columns = ['Polarity_h', 'Subjectivity_h']\n",
    "\n",
    "score_l = df_nyt_w[\"nyt_w\"].apply(get_pyscore, model=lm).drop(['Positive', 'Negative'], axis=1)\n",
    "score_l.columns = [ 'Polarity_l', 'Subjectivity_l']\n",
    "\n",
    "scores = pd.concat([score_h, score_l], axis=1)\n",
    "scores =  (scores.mean().to_frame().T)\n",
    "scores.insert(loc=0, column='nyt_w', value=daily_nyt_w)\n",
    "nyt_w_scores = scores\n",
    "\n",
    "#NYT Politics\n",
    "score_h = df_nyt_p[\"nyt_p\"].apply(get_pyscore, model=hiv4).drop(['Positive', 'Negative'], axis=1)\n",
    "score_h.columns = ['Polarity_h', 'Subjectivity_h']\n",
    "\n",
    "score_l = df_nyt_p[\"nyt_p\"].apply(get_pyscore, model=lm).drop(['Positive', 'Negative'], axis=1)\n",
    "score_l.columns = [ 'Polarity_l', 'Subjectivity_l']\n",
    "\n",
    "scores = pd.concat([score_h, score_l], axis=1)\n",
    "scores =  (scores.mean().to_frame().T)\n",
    "scores.insert(loc=0, column='nyt_p', value=daily_nyt_p)\n",
    "nyt_p_scores = scores\n",
    "\n",
    "#NYT Business\n",
    "score_h = df_nyt_b[\"nyt_b\"].apply(get_pyscore, model=hiv4).drop(['Positive', 'Negative'], axis=1)\n",
    "score_h.columns = ['Polarity_h', 'Subjectivity_h']\n",
    "\n",
    "score_l = df_nyt_b[\"nyt_b\"].apply(get_pyscore, model=lm).drop(['Positive', 'Negative'], axis=1)\n",
    "score_l.columns = [ 'Polarity_l', 'Subjectivity_l']\n",
    "\n",
    "scores = pd.concat([score_h, score_l], axis=1)\n",
    "scores =  (scores.mean().to_frame().T)\n",
    "scores.insert(loc=0, column='nyt_b', value=daily_nyt_b)\n",
    "nyt_b_scores = scores\n",
    "\n",
    "#NYT Tech\n",
    "score_h = df_nyt_t[\"nyt_t\"].apply(get_pyscore, model=hiv4).drop(['Positive', 'Negative'], axis=1)\n",
    "score_h.columns = ['Polarity_h', 'Subjectivity_h']\n",
    "\n",
    "score_l = df_nyt_t[\"nyt_t\"].apply(get_pyscore, model=lm).drop(['Positive', 'Negative'], axis=1)\n",
    "score_l.columns = [ 'Polarity_l', 'Subjectivity_l']\n",
    "\n",
    "scores = pd.concat([score_h, score_l], axis=1)\n",
    "scores =  (scores.mean().to_frame().T)\n",
    "scores.insert(loc=0, column='nyt_t', value=daily_nyt_t)\n",
    "nyt_t_scores = scores"
   ]
  },
  {
   "cell_type": "markdown",
   "metadata": {
    "heading_collapsed": true
   },
   "source": [
    "# 4. Upload on our MySQL Database <a id=\"4\"></a>"
   ]
  },
  {
   "cell_type": "markdown",
   "metadata": {
    "hidden": true
   },
   "source": [
    "Let's finally merge our results from our sentiment analysis and add a timestamp"
   ]
  },
  {
   "cell_type": "code",
   "execution_count": 202,
   "metadata": {
    "hidden": true
   },
   "outputs": [],
   "source": [
    "daily_scores = pd.concat([bild_scores, spiegel_scores, zeit_scores, faz_scores, bbc_scores, cnn_scores, cnbc_scores, nyt_w_scores, nyt_p_scores, nyt_b_scores, nyt_t_scores], axis=1, sort=False)"
   ]
  },
  {
   "cell_type": "code",
   "execution_count": 203,
   "metadata": {
    "hidden": true
   },
   "outputs": [
    {
     "data": {
      "text/plain": [
       "'10/29/2020'"
      ]
     },
     "execution_count": 203,
     "metadata": {},
     "output_type": "execute_result"
    }
   ],
   "source": [
    "n = pd.to_datetime('today').strftime(\"%m/%d/%Y\")\n",
    "n"
   ]
  },
  {
   "cell_type": "markdown",
   "metadata": {
    "hidden": true
   },
   "source": [
    "##### Lets add a Timestamp so we can use the Headlines as Timeseries"
   ]
  },
  {
   "cell_type": "code",
   "execution_count": 204,
   "metadata": {
    "hidden": true
   },
   "outputs": [],
   "source": [
    "daily_scores.insert(loc=0, column='Timestamp', value=n)"
   ]
  },
  {
   "cell_type": "code",
   "execution_count": 205,
   "metadata": {
    "hidden": true,
    "scrolled": true
   },
   "outputs": [
    {
     "data": {
      "text/html": [
       "<div>\n",
       "<style scoped>\n",
       "    .dataframe tbody tr th:only-of-type {\n",
       "        vertical-align: middle;\n",
       "    }\n",
       "\n",
       "    .dataframe tbody tr th {\n",
       "        vertical-align: top;\n",
       "    }\n",
       "\n",
       "    .dataframe thead th {\n",
       "        text-align: right;\n",
       "    }\n",
       "</style>\n",
       "<table border=\"1\" class=\"dataframe\">\n",
       "  <thead>\n",
       "    <tr style=\"text-align: right;\">\n",
       "      <th></th>\n",
       "      <th>Timestamp</th>\n",
       "      <th>spiegel</th>\n",
       "      <th>Polarity_h</th>\n",
       "      <th>Subjectivity_h</th>\n",
       "      <th>Polarity_l</th>\n",
       "      <th>Subjectivity_l</th>\n",
       "      <th>zeit</th>\n",
       "      <th>Polarity_h</th>\n",
       "      <th>Subjectivity_h</th>\n",
       "      <th>Polarity_l</th>\n",
       "      <th>...</th>\n",
       "      <th>nyt_b</th>\n",
       "      <th>Polarity_h</th>\n",
       "      <th>Subjectivity_h</th>\n",
       "      <th>Polarity_l</th>\n",
       "      <th>Subjectivity_l</th>\n",
       "      <th>nyt_t</th>\n",
       "      <th>Polarity_h</th>\n",
       "      <th>Subjectivity_h</th>\n",
       "      <th>Polarity_l</th>\n",
       "      <th>Subjectivity_l</th>\n",
       "    </tr>\n",
       "  </thead>\n",
       "  <tbody>\n",
       "    <tr>\n",
       "      <th>0</th>\n",
       "      <td>10/29/2020</td>\n",
       "      <td>-0.117319</td>\n",
       "      <td>-0.074074</td>\n",
       "      <td>0.339286</td>\n",
       "      <td>-0.259259</td>\n",
       "      <td>0.154938</td>\n",
       "      <td>-0.123405</td>\n",
       "      <td>-0.2</td>\n",
       "      <td>0.345833</td>\n",
       "      <td>-0.2</td>\n",
       "      <td>...</td>\n",
       "      <td>0.040724</td>\n",
       "      <td>0.117647</td>\n",
       "      <td>0.310891</td>\n",
       "      <td>-0.147059</td>\n",
       "      <td>0.083438</td>\n",
       "      <td>-0.089235</td>\n",
       "      <td>-0.086956</td>\n",
       "      <td>0.282618</td>\n",
       "      <td>-0.347826</td>\n",
       "      <td>0.168516</td>\n",
       "    </tr>\n",
       "  </tbody>\n",
       "</table>\n",
       "<p>1 rows × 51 columns</p>\n",
       "</div>"
      ],
      "text/plain": [
       "    Timestamp   spiegel  Polarity_h  Subjectivity_h  Polarity_l  \\\n",
       "0  10/29/2020 -0.117319   -0.074074        0.339286   -0.259259   \n",
       "\n",
       "   Subjectivity_l      zeit  Polarity_h  Subjectivity_h  Polarity_l  ...  \\\n",
       "0        0.154938 -0.123405        -0.2        0.345833        -0.2  ...   \n",
       "\n",
       "      nyt_b  Polarity_h  Subjectivity_h  Polarity_l  Subjectivity_l     nyt_t  \\\n",
       "0  0.040724    0.117647        0.310891   -0.147059        0.083438 -0.089235   \n",
       "\n",
       "   Polarity_h  Subjectivity_h  Polarity_l  Subjectivity_l  \n",
       "0   -0.086956        0.282618   -0.347826        0.168516  \n",
       "\n",
       "[1 rows x 51 columns]"
      ]
     },
     "execution_count": 205,
     "metadata": {},
     "output_type": "execute_result"
    }
   ],
   "source": [
    "daily_scores"
   ]
  },
  {
   "cell_type": "code",
   "execution_count": 206,
   "metadata": {
    "hidden": true
   },
   "outputs": [],
   "source": [
    "############### CONFIGURE THIS ###################\n",
    "# Open database connection\n",
    "\n",
    "# Credentials to database connection\n",
    "user = 'sql7372795'\n",
    "passw = 'tbd'\n",
    "host =  'sql7.freemysqlhosting.net'\n",
    "database = 'sql7372795'\n",
    "\n",
    "\n",
    "# Create SQLAlchemy engine to connect to MySQL Database\n",
    "engine = create_engine(\"mysql+pymysql://{user}:{pw}@{host}/{db}\".format(host=host, db=database, user=user, pw=passw))"
   ]
  },
  {
   "cell_type": "code",
   "execution_count": 207,
   "metadata": {
    "hidden": true
   },
   "outputs": [],
   "source": [
    "daily_scores.to_sql('scores', engine, if_exists = 'append')"
   ]
  },
  {
   "cell_type": "markdown",
   "metadata": {
    "hidden": true
   },
   "source": [
    "Now we could schedule daily parsing and uploads!"
   ]
  },
  {
   "cell_type": "markdown",
   "metadata": {
    "heading_collapsed": true,
    "slideshow": {
     "slide_type": "slide"
    }
   },
   "source": [
    "# 5. Schedule daily runs as .py script <a id=\"5\"></a>"
   ]
  },
  {
   "cell_type": "markdown",
   "metadata": {
    "hidden": true
   },
   "source": [
    "##### To create our final database, we will run the crucial parts of our notebook as a .py script \n",
    "\n",
    "- HTML Parsing\n",
    "- Daily ```VADER``` Scores\n",
    "- Daily ```Pysentiment``` Scores \n",
    "- Upload (```append```) to our MySQL Database\n",
    "\n",
    "All the parts of our exploratory data analysis are obviously not needed for the daily runs."
   ]
  },
  {
   "cell_type": "markdown",
   "metadata": {
    "heading_collapsed": true,
    "slideshow": {
     "slide_type": "slide"
    }
   },
   "source": [
    "# 6. Upcoming Analysis of our unique dataset <a id=\"6\"></a>"
   ]
  },
  {
   "cell_type": "markdown",
   "metadata": {
    "heading_collapsed": true,
    "hidden": true
   },
   "source": [
    "##### Our main goal is to compares our different scores of our timeseries against german (and US) financial markets\n",
    "\n",
    "We will compare:\n",
    "- ```VADER``` Score\n",
    "- Popularity and Subjectivity ```Pysentiment HIV-4``` Scores \n",
    "- Popularity and Subjectivity ```Pysentiment LM``` Scores \n",
    "\n",
    "I am very excited to see our results in a view months!"
   ]
  },
  {
   "cell_type": "markdown",
   "metadata": {
    "heading_collapsed": true,
    "slideshow": {
     "slide_type": "slide"
    }
   },
   "source": [
    "# 7. Outlook <a id=\"7\"></a>"
   ]
  },
  {
   "cell_type": "markdown",
   "metadata": {
    "hidden": true
   },
   "source": [
    "The preliminary results of our ```VADER```  and ```pysentiment``` analysis are quite encouraging. But we will have to wait until our dataset has a statistically significant size."
   ]
  },
  {
   "cell_type": "markdown",
   "metadata": {
    "heading_collapsed": true,
    "slideshow": {
     "slide_type": "slide"
    }
   },
   "source": [
    "# Thank you for completing this Notebook!"
   ]
  },
  {
   "cell_type": "markdown",
   "metadata": {
    "hidden": true
   },
   "source": [
    "<hr>\n",
    "<h5>\n",
    "<p> <center>  <font color='gray'> Jupyter Notebook by </font> Jonas Gottal </center></p>\n",
    "</h5>"
   ]
  }
 ],
 "metadata": {
  "kernelspec": {
   "display_name": "Python 3",
   "language": "python",
   "name": "python3"
  },
  "language_info": {
   "codemirror_mode": {
    "name": "ipython",
    "version": 3
   },
   "file_extension": ".py",
   "mimetype": "text/x-python",
   "name": "python",
   "nbconvert_exporter": "python",
   "pygments_lexer": "ipython3",
   "version": "3.8.3"
  }
 },
 "nbformat": 4,
 "nbformat_minor": 4
}
